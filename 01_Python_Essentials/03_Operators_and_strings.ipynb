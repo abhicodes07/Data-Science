{
 "cells": [
  {
   "cell_type": "markdown",
   "id": "bd08f460-a59c-4e58-9254-4d2590f065b2",
   "metadata": {},
   "source": [
    "Python has variety of operators that can be used to perform mathematical and logical operations on data and variables\n",
    "\"+,-, /, **, *, //, is, is not, ==, =, !=, <, >, <=, >=, &, |\""
   ]
  },
  {
   "cell_type": "code",
   "execution_count": 1,
   "id": "33cd0f83-a90d-4015-b7a7-3d2fbe3cb84a",
   "metadata": {},
   "outputs": [
    {
     "name": "stdout",
     "output_type": "stream",
     "text": [
      "30\n",
      "-10\n",
      "100000000000000000000\n"
     ]
    }
   ],
   "source": [
    "a = 10\n",
    "b = 20\n",
    "print(a+b)\n",
    "print(a-b)\n",
    "print(a**b)\n",
    "# etc"
   ]
  },
  {
   "cell_type": "markdown",
   "id": "c3e19107-072a-4992-ab22-627682dae77c",
   "metadata": {},
   "source": [
    "## Mutable and Immutable objects\n",
    "Most objects like lists, dictionaries etc. are mutable in python.\n",
    "This mean that we can add and change existing data in these objects according to our preferences However, strings and tuples are immutable i.e., cannot be altered.\n",
    "example: "
   ]
  },
  {
   "cell_type": "code",
   "execution_count": 2,
   "id": "055b5d08-87a7-46de-91b6-8408ccde7d4f",
   "metadata": {},
   "outputs": [
    {
     "name": "stdout",
     "output_type": "stream",
     "text": [
      "[1, 'Name', 'London']\n"
     ]
    }
   ],
   "source": [
    "lst = [1, \"Name\", \"City\"]\n",
    "lst[2] = \"London\"\n",
    "print(lst)"
   ]
  },
  {
   "cell_type": "code",
   "execution_count": 3,
   "id": "f99072e4-2836-4af2-a9ed-f0a677327478",
   "metadata": {},
   "outputs": [
    {
     "ename": "TypeError",
     "evalue": "'tuple' object does not support item assignment",
     "output_type": "error",
     "traceback": [
      "\u001b[0;31m---------------------------------------------------------------------------\u001b[0m",
      "\u001b[0;31mTypeError\u001b[0m                                 Traceback (most recent call last)",
      "Cell \u001b[0;32mIn[3], line 3\u001b[0m\n\u001b[1;32m      1\u001b[0m \u001b[38;5;66;03m# Here, following tuple is immutable\u001b[39;00m\n\u001b[1;32m      2\u001b[0m \u001b[38;5;28mtuple\u001b[39m \u001b[38;5;241m=\u001b[39m (\u001b[38;5;241m1\u001b[39m, \u001b[38;5;241m2\u001b[39m, \u001b[38;5;241m3\u001b[39m, \u001b[38;5;241m4\u001b[39m)\n\u001b[0;32m----> 3\u001b[0m \u001b[38;5;28;43mtuple\u001b[39;49m\u001b[43m[\u001b[49m\u001b[38;5;241;43m2\u001b[39;49m\u001b[43m]\u001b[49m \u001b[38;5;241m=\u001b[39m \u001b[38;5;241m7\u001b[39m\n\u001b[1;32m      4\u001b[0m \u001b[38;5;28mprint\u001b[39m(\u001b[38;5;28mtuple\u001b[39m)\n",
      "\u001b[0;31mTypeError\u001b[0m: 'tuple' object does not support item assignment"
     ]
    }
   ],
   "source": [
    "# Here, following tuple is immutable\n",
    "tuple = (1, 2, 3, 4)\n",
    "tuple[2] = 7\n",
    "print(tuple)"
   ]
  },
  {
   "cell_type": "markdown",
   "id": "e0e314a5-bef5-43c5-b3a4-3414d03eb4b3",
   "metadata": {},
   "source": [
    "## Scalar Types (data types)\n",
    "There are several data types in python which can used to work upon different type of data.\n",
    "example- None, str, unicode, float, bool, int, long"
   ]
  },
  {
   "cell_type": "markdown",
   "id": "1484e08e-439b-436e-aaa3-28b713774c96",
   "metadata": {},
   "source": [
    "## Strings\n",
    "Strings in python are written in double and single quotes.\n",
    "example: \n",
    "\"This is a string.\"\n",
    "'This is a string too.'\n",
    "\"\"\" This is a \n",
    "multiple line \n",
    "string. \"\"\""
   ]
  },
  {
   "cell_type": "code",
   "execution_count": 4,
   "id": "df20e074-c812-4696-823f-bcea27ffd27a",
   "metadata": {},
   "outputs": [
    {
     "name": "stdout",
     "output_type": "stream",
     "text": [
      "This is a one way to initialise a string in python.\n",
      "This is another way to initilise a string in python.\n",
      "\n",
      "This is a\n",
      "multi-line string.\n",
      "\n"
     ]
    }
   ],
   "source": [
    "a = \"This is a one way to initialise a string in python.\"\n",
    "b = 'This is another way to initilise a string in python.'\n",
    "c = \"\"\"\n",
    "This is a\n",
    "multi-line string.\n",
    "\"\"\"\n",
    "print(a)\n",
    "print(b)\n",
    "print(c)"
   ]
  },
  {
   "cell_type": "markdown",
   "id": "0b9ce68e-4734-432e-91eb-b47e8b2e2bf7",
   "metadata": {},
   "source": [
    "#### Convert a object into string\n",
    "We can convert an object into string using `str` method.\n",
    "example:"
   ]
  },
  {
   "cell_type": "code",
   "execution_count": 6,
   "id": "8e547933-a477-43fa-8fcd-2562cf913936",
   "metadata": {},
   "outputs": [
    {
     "name": "stdout",
     "output_type": "stream",
     "text": [
      "<class 'float'>\n",
      "<class 'str'>\n"
     ]
    }
   ],
   "source": [
    "a = 5.6\n",
    "print(type(a))\n",
    "b = str(a)\n",
    "print(type(b))"
   ]
  },
  {
   "cell_type": "markdown",
   "id": "f2316dcf-f2f1-4150-b83a-d81894d8e1b1",
   "metadata": {},
   "source": [
    "#### Strings to other sequences\n",
    "Since a string is a sequence like Lists and tuples, we can treat it like them also."
   ]
  },
  {
   "cell_type": "code",
   "execution_count": 7,
   "id": "968112b2-ec05-4a06-ac05-3419dbf6d2bd",
   "metadata": {},
   "outputs": [
    {
     "name": "stdout",
     "output_type": "stream",
     "text": [
      "['A', 'b', 'h', 'i', 'n', 'a', 'v']\n"
     ]
    }
   ],
   "source": [
    "a = \"Abhinav\"\n",
    "b = list(a)\n",
    "print(b)"
   ]
  },
  {
   "cell_type": "code",
   "execution_count": 8,
   "id": "36443537-1e03-4145-b819-9a555ae5bb33",
   "metadata": {},
   "outputs": [
    {
     "name": "stdout",
     "output_type": "stream",
     "text": [
      "Abh\n"
     ]
    }
   ],
   "source": [
    "print(a[:3]) # accessing some of the characters of a string using indexing method"
   ]
  }
 ],
 "metadata": {
  "kernelspec": {
   "display_name": "Python 3 (ipykernel)",
   "language": "python",
   "name": "python3"
  },
  "language_info": {
   "codemirror_mode": {
    "name": "ipython",
    "version": 3
   },
   "file_extension": ".py",
   "mimetype": "text/x-python",
   "name": "python",
   "nbconvert_exporter": "python",
   "pygments_lexer": "ipython3",
   "version": "3.11.10"
  },
  "widgets": {
   "application/vnd.jupyter.widget-state+json": {
    "state": {},
    "version_major": 2,
    "version_minor": 0
   }
  }
 },
 "nbformat": 4,
 "nbformat_minor": 5
}
