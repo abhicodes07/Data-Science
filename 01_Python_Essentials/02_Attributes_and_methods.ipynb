{
 "cells": [
  {
   "cell_type": "markdown",
   "id": "a43b6059-fb99-425c-adc8-bf6c39a9aa5b",
   "metadata": {},
   "source": [
    "Different attributes and functions can be accessible by using syntax ***obj.attribute_name***.\n",
    "To view all the attributes that we can use on particular object we can use `obj.<tab>` method or using `getattr(obj, 'append'` method."
   ]
  },
  {
   "cell_type": "code",
   "execution_count": 1,
   "id": "bf179ac8-75b8-4f76-bd4e-6135bc76ced8",
   "metadata": {},
   "outputs": [],
   "source": [
    "a = \"example\"\n",
    "#a.<tab>"
   ]
  }
 ],
 "metadata": {
  "kernelspec": {
   "display_name": "Python 3 (ipykernel)",
   "language": "python",
   "name": "python3"
  },
  "language_info": {
   "codemirror_mode": {
    "name": "ipython",
    "version": 3
   },
   "file_extension": ".py",
   "mimetype": "text/x-python",
   "name": "python",
   "nbconvert_exporter": "python",
   "pygments_lexer": "ipython3",
   "version": "3.11.10"
  },
  "widgets": {
   "application/vnd.jupyter.widget-state+json": {
    "state": {},
    "version_major": 2,
    "version_minor": 0
   }
  }
 },
 "nbformat": 4,
 "nbformat_minor": 5
}
