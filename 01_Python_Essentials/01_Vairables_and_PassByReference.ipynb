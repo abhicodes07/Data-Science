{
 "cells": [
  {
   "cell_type": "markdown",
   "id": "756ff931-f357-4c81-bd14-b592046f6179",
   "metadata": {},
   "source": [
    "## Variables and Pass by reference\n",
    "When we create a variable in python, we are **referencing** to the object on the right side of the '=' sign."
   ]
  },
  {
   "cell_type": "code",
   "execution_count": 1,
   "id": "270a1d3f-7c73-4da0-961a-6fe06554b7c8",
   "metadata": {},
   "outputs": [],
   "source": [
    "a = [1, 2, 3]"
   ]
  },
  {
   "cell_type": "markdown",
   "id": "b1eb3642-2785-4bea-9cd3-cfe837e550fa",
   "metadata": {},
   "source": [
    "Now we assign variable **a** to a new variable **b**,"
   ]
  },
  {
   "cell_type": "code",
   "execution_count": 2,
   "id": "5360bdca-de30-4541-90aa-b5464d58d186",
   "metadata": {},
   "outputs": [],
   "source": [
    "b = a"
   ]
  },
  {
   "cell_type": "markdown",
   "id": "5ec05414-20fe-4c53-8ead-a1991c440655",
   "metadata": {},
   "source": [
    "In python, a and b actually now reference to the same object i.e., the value of a is not being copied in b. "
   ]
  },
  {
   "cell_type": "code",
   "execution_count": 3,
   "id": "101cb95d-2384-4779-bd4e-61109585f64a",
   "metadata": {},
   "outputs": [
    {
     "name": "stdout",
     "output_type": "stream",
     "text": [
      "[1, 2, 3]\n"
     ]
    }
   ],
   "source": [
    "print(b)"
   ]
  },
  {
   "cell_type": "code",
   "execution_count": 4,
   "id": "8590c534-9f01-4dda-8180-52c911fa0af3",
   "metadata": {},
   "outputs": [
    {
     "name": "stdout",
     "output_type": "stream",
     "text": [
      "[1, 2, 3, 10]\n"
     ]
    }
   ],
   "source": [
    "a.append(10)\n",
    "print(b)"
   ]
  }
 ],
 "metadata": {
  "kernelspec": {
   "display_name": "Python 3 (ipykernel)",
   "language": "python",
   "name": "python3"
  },
  "language_info": {
   "codemirror_mode": {
    "name": "ipython",
    "version": 3
   },
   "file_extension": ".py",
   "mimetype": "text/x-python",
   "name": "python",
   "nbconvert_exporter": "python",
   "pygments_lexer": "ipython3",
   "version": "3.11.10"
  },
  "widgets": {
   "application/vnd.jupyter.widget-state+json": {
    "state": {},
    "version_major": 2,
    "version_minor": 0
   }
  }
 },
 "nbformat": 4,
 "nbformat_minor": 5
}
