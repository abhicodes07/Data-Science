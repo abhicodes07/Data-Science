{
 "cells": [
  {
   "cell_type": "markdown",
   "id": "4fe41666-713b-4606-970b-acfbc5c14de1",
   "metadata": {},
   "source": [
    "## Ternary Expression\n",
    "A ternary expression in python allows you to combine an if-else block which produces a value into a single line or expression.\n",
    "`value = true-expr if condtion else false-expr`"
   ]
  },
  {
   "cell_type": "code",
   "execution_count": 1,
   "id": "0769460d-41ba-43cf-95c7-f68ba276c44c",
   "metadata": {},
   "outputs": [],
   "source": [
    "x = 5"
   ]
  },
  {
   "cell_type": "code",
   "execution_count": 3,
   "id": "4c5635d3-73a5-4baf-b832-850f53f33833",
   "metadata": {},
   "outputs": [
    {
     "data": {
      "text/plain": [
       "'Positive'"
      ]
     },
     "execution_count": 3,
     "metadata": {},
     "output_type": "execute_result"
    }
   ],
   "source": [
    "'Negative' if x < 0 else 'Positive'"
   ]
  },
  {
   "cell_type": "code",
   "execution_count": null,
   "id": "91bfc619-e589-422b-93e9-4eb63358dc17",
   "metadata": {},
   "outputs": [],
   "source": []
  }
 ],
 "metadata": {
  "kernelspec": {
   "display_name": "Python 3 (ipykernel)",
   "language": "python",
   "name": "python3"
  },
  "language_info": {
   "codemirror_mode": {
    "name": "ipython",
    "version": 3
   },
   "file_extension": ".py",
   "mimetype": "text/x-python",
   "name": "python",
   "nbconvert_exporter": "python",
   "pygments_lexer": "ipython3",
   "version": "3.11.10"
  },
  "widgets": {
   "application/vnd.jupyter.widget-state+json": {
    "state": {},
    "version_major": 2,
    "version_minor": 0
   }
  }
 },
 "nbformat": 4,
 "nbformat_minor": 5
}
