{
 "cells": [
  {
   "cell_type": "markdown",
   "id": "6d797b12-f95b-4390-aa5f-cd6f7ea1ef8a",
   "metadata": {},
   "source": [
    "## Date and Time\n",
    "The built-n `datetime` module provides datetime, date and time types."
   ]
  },
  {
   "cell_type": "code",
   "execution_count": 1,
   "id": "8a868b53-002b-4d64-8159-1a590e27d065",
   "metadata": {},
   "outputs": [],
   "source": [
    "from datetime import datetime, time, date"
   ]
  },
  {
   "cell_type": "code",
   "execution_count": 2,
   "id": "c24a0b93-9bdc-44e8-af98-30af72ad47e1",
   "metadata": {},
   "outputs": [
    {
     "data": {
      "text/plain": [
       "29"
      ]
     },
     "execution_count": 2,
     "metadata": {},
     "output_type": "execute_result"
    }
   ],
   "source": [
    "dt = datetime(2011, 10, 29, 20, 30, 21)\n",
    "dt.day"
   ]
  },
  {
   "cell_type": "code",
   "execution_count": 3,
   "id": "50e59642-5795-4e39-ad59-826973e64d7a",
   "metadata": {},
   "outputs": [
    {
     "data": {
      "text/plain": [
       "30"
      ]
     },
     "execution_count": 3,
     "metadata": {},
     "output_type": "execute_result"
    }
   ],
   "source": [
    "dt.minute"
   ]
  },
  {
   "cell_type": "markdown",
   "id": "94695dd6-2126-4fe5-8023-c6f4c28a313d",
   "metadata": {},
   "source": [
    "#### Extract `date` and `time` objects"
   ]
  },
  {
   "cell_type": "code",
   "execution_count": 4,
   "id": "561af062-5dce-4a6b-a252-92a94389c209",
   "metadata": {},
   "outputs": [
    {
     "data": {
      "text/plain": [
       "datetime.date(2011, 10, 29)"
      ]
     },
     "execution_count": 4,
     "metadata": {},
     "output_type": "execute_result"
    }
   ],
   "source": [
    "dt.date()"
   ]
  },
  {
   "cell_type": "code",
   "execution_count": 5,
   "id": "55bdc8ac-0798-40df-acf8-0acda2ca08e6",
   "metadata": {},
   "outputs": [
    {
     "data": {
      "text/plain": [
       "datetime.time(20, 30, 21)"
      ]
     },
     "execution_count": 5,
     "metadata": {},
     "output_type": "execute_result"
    }
   ],
   "source": [
    "dt.time()"
   ]
  },
  {
   "cell_type": "markdown",
   "id": "3c9de61e-ea90-476b-b218-bc6e1d913c4b",
   "metadata": {},
   "source": [
    "#### String date and time\n",
    "`strftime` method formats a datetime as a string."
   ]
  },
  {
   "cell_type": "code",
   "execution_count": 7,
   "id": "69bf0394-65bc-44a0-9e92-ff4e26333d68",
   "metadata": {},
   "outputs": [
    {
     "data": {
      "text/plain": [
       "'29-10-2011 20:30'"
      ]
     },
     "execution_count": 7,
     "metadata": {},
     "output_type": "execute_result"
    }
   ],
   "source": [
    "dt.strftime(\"%d-%m-%Y %H:%M\")"
   ]
  },
  {
   "cell_type": "markdown",
   "id": "34b78308-490b-4503-8c50-17fbcb66fc0a",
   "metadata": {},
   "source": [
    "#### Parse strings to date time\n",
    "Strings can be parsed into datetime objects using the `strptime` function."
   ]
  },
  {
   "cell_type": "code",
   "execution_count": 8,
   "id": "553cfd5e-c149-48d7-a0a6-e6349a281fd0",
   "metadata": {},
   "outputs": [
    {
     "data": {
      "text/plain": [
       "datetime.datetime(2005, 6, 7, 0, 0)"
      ]
     },
     "execution_count": 8,
     "metadata": {},
     "output_type": "execute_result"
    }
   ],
   "source": [
    "dt.strptime('20050607', '%Y%m%d')"
   ]
  },
  {
   "cell_type": "markdown",
   "id": "0e1e7045-2fcd-46c6-8698-35e458424524",
   "metadata": {},
   "source": [
    "#### Replace the minute and second fields with zero"
   ]
  },
  {
   "cell_type": "code",
   "execution_count": 9,
   "id": "3f08b47f-da7f-47c9-a449-05a844dd93dc",
   "metadata": {},
   "outputs": [
    {
     "data": {
      "text/plain": [
       "datetime.datetime(2011, 10, 29, 20, 40, 30)"
      ]
     },
     "execution_count": 9,
     "metadata": {},
     "output_type": "execute_result"
    }
   ],
   "source": [
    "dt.replace(minute=40, second=30)"
   ]
  },
  {
   "cell_type": "markdown",
   "id": "9179379f-4d84-46b1-b418-43a5c67c9432",
   "metadata": {},
   "source": [
    "#### Difference of two datetime\n",
    "The difference of two datetime objects produces a daretime.timedelta."
   ]
  },
  {
   "cell_type": "code",
   "execution_count": 10,
   "id": "d97e090c-37a1-4c3b-8f6c-87c58e3b57fb",
   "metadata": {},
   "outputs": [],
   "source": [
    "dt2 = datetime(2011, 10, 29, 20, 0)"
   ]
  },
  {
   "cell_type": "code",
   "execution_count": 11,
   "id": "c0e5eee1-0eee-4fab-b716-750ea17108a6",
   "metadata": {},
   "outputs": [],
   "source": [
    "# dt = 2011, 10, 29, 30, 20, 0\n",
    "# dt2 = 2011, 10, 29, 20, 0\n",
    "delta = dt - dt2"
   ]
  },
  {
   "cell_type": "code",
   "execution_count": 12,
   "id": "c5204566-5f0f-4822-b030-73253289c262",
   "metadata": {},
   "outputs": [
    {
     "data": {
      "text/plain": [
       "datetime.timedelta(seconds=1821)"
      ]
     },
     "execution_count": 12,
     "metadata": {},
     "output_type": "execute_result"
    }
   ],
   "source": [
    "delta"
   ]
  },
  {
   "cell_type": "code",
   "execution_count": null,
   "id": "ea1a1670-a38a-4622-be06-7e7568e575bd",
   "metadata": {},
   "outputs": [],
   "source": []
  }
 ],
 "metadata": {
  "kernelspec": {
   "display_name": "Python 3 (ipykernel)",
   "language": "python",
   "name": "python3"
  },
  "language_info": {
   "codemirror_mode": {
    "name": "ipython",
    "version": 3
   },
   "file_extension": ".py",
   "mimetype": "text/x-python",
   "name": "python",
   "nbconvert_exporter": "python",
   "pygments_lexer": "ipython3",
   "version": "3.11.10"
  },
  "widgets": {
   "application/vnd.jupyter.widget-state+json": {
    "state": {},
    "version_major": 2,
    "version_minor": 0
   }
  }
 },
 "nbformat": 4,
 "nbformat_minor": 5
}
