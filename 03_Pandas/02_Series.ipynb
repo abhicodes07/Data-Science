{
 "cells": [
  {
   "cell_type": "markdown",
   "id": "8ffbd2d7-c27c-4aad-8442-5767a408d337",
   "metadata": {},
   "source": [
    "# Series\n",
    "A series is one-dimensional array like object containing an array of data (of any NumPy data-type) and an associated array of data labels, called it's index."
   ]
  },
  {
   "cell_type": "code",
   "execution_count": 1,
   "id": "4c63d30b-d66a-405a-aa6b-37a5947bbe37",
   "metadata": {},
   "outputs": [],
   "source": [
    "import pandas as pd\n",
    "import numpy as np\n",
    "from pandas import Series, DataFrame"
   ]
  },
  {
   "cell_type": "markdown",
   "id": "15dc5aeb-032d-466e-8c41-586fd9bbaf57",
   "metadata": {},
   "source": [
    "## 1. Create a series: \n",
    "`Series([series])` "
   ]
  },
  {
   "cell_type": "code",
   "execution_count": 2,
   "id": "649c7a61-40f4-4cfa-a035-1475a11439e5",
   "metadata": {},
   "outputs": [
    {
     "data": {
      "text/plain": [
       "0   -2\n",
       "1    4\n",
       "2    3\n",
       "3    5\n",
       "dtype: int64"
      ]
     },
     "execution_count": 2,
     "metadata": {},
     "output_type": "execute_result"
    }
   ],
   "source": [
    "obj = Series([-2, 4, 3, 5]) # create a series using Series() method\n",
    "obj"
   ]
  },
  {
   "cell_type": "markdown",
   "id": "1bdae187-4685-4b9d-a764-667b3df0e586",
   "metadata": {},
   "source": [
    "The array of elements on the left is called as <b>Index</b> and right array of elements is known as <b>Values</b>."
   ]
  },
  {
   "cell_type": "markdown",
   "id": "d5880b51-e1b4-406f-abcf-1c8a15eaef60",
   "metadata": {},
   "source": [
    "## 2. Get Index and Value of a Series\n",
    "We can get the index from a series using `np.array(series_name.index)` method:"
   ]
  },
  {
   "cell_type": "code",
   "execution_count": 5,
   "id": "9e412e53-40e6-416b-9bd3-1592879fa210",
   "metadata": {},
   "outputs": [
    {
     "data": {
      "text/plain": [
       "array([0, 1, 2, 3])"
      ]
     },
     "execution_count": 5,
     "metadata": {},
     "output_type": "execute_result"
    }
   ],
   "source": [
    "np.array(obj.index)"
   ]
  },
  {
   "cell_type": "markdown",
   "id": "6fdbe49b-84f7-4797-a9ef-3db899f79c5d",
   "metadata": {},
   "source": [
    "similarly, we can retrieve values from the series using `series_name.values` method:"
   ]
  },
  {
   "cell_type": "code",
   "execution_count": 4,
   "id": "381b8c0d-ff09-48bd-a43d-ffe8712e0d36",
   "metadata": {},
   "outputs": [
    {
     "data": {
      "text/plain": [
       "array([-2,  4,  3,  5])"
      ]
     },
     "execution_count": 4,
     "metadata": {},
     "output_type": "execute_result"
    }
   ],
   "source": [
    "obj.values"
   ]
  },
  {
   "cell_type": "markdown",
   "id": "4b553f2b-560d-4038-842e-e0ff3b01c7ce",
   "metadata": {},
   "source": [
    "## 3. Create a series with desirable index\n",
    "we can create a series with our own specified index using `Series([series], index=[])` method:"
   ]
  },
  {
   "cell_type": "code",
   "execution_count": 6,
   "id": "7d9c2035-a67f-49e1-b71b-1840c1cf296c",
   "metadata": {},
   "outputs": [
    {
     "data": {
      "text/plain": [
       "a    10\n",
       "b    20\n",
       "c    30\n",
       "d    40\n",
       "dtype: int64"
      ]
     },
     "execution_count": 6,
     "metadata": {},
     "output_type": "execute_result"
    }
   ],
   "source": [
    "obj2 = Series([10, 20, 30, 40], index=['a', 'b', 'c', 'd'])\n",
    "obj2"
   ]
  },
  {
   "cell_type": "markdown",
   "id": "c574b676-ce8f-4ab9-b9d8-d541a9deb41c",
   "metadata": {},
   "source": [
    "## 4. Access values/Selection:\n",
    "you can use values in the index when selecting single value or multiple values"
   ]
  },
  {
   "cell_type": "markdown",
   "id": "3dcb4763-714b-42d8-8534-46ac96acaeb7",
   "metadata": {},
   "source": [
    "### a. Single value:\n",
    "Access a particular value using a index value `series_name[INDEX_VALUE]`"
   ]
  },
  {
   "cell_type": "code",
   "execution_count": 10,
   "id": "4ef2c489-7b88-4316-bca4-b6573466e4db",
   "metadata": {},
   "outputs": [
    {
     "data": {
      "text/plain": [
       "np.int64(10)"
      ]
     },
     "execution_count": 10,
     "metadata": {},
     "output_type": "execute_result"
    }
   ],
   "source": [
    "obj2['a']"
   ]
  },
  {
   "cell_type": "markdown",
   "id": "0ba96cba-eb77-4916-8e48-77ed481ee632",
   "metadata": {},
   "source": [
    "### b. Multiple values:\n",
    "Access multiple values using multiple index values `series_name[[index_value1, index_value2, ... ]]`"
   ]
  },
  {
   "cell_type": "code",
   "execution_count": 12,
   "id": "e282a12c-8d23-4064-a92b-6169bd331eb6",
   "metadata": {},
   "outputs": [
    {
     "data": {
      "text/plain": [
       "b    20\n",
       "c    30\n",
       "dtype: int64"
      ]
     },
     "execution_count": 12,
     "metadata": {},
     "output_type": "execute_result"
    }
   ],
   "source": [
    "obj2[['b', 'c']] # access b and c indexed elements"
   ]
  },
  {
   "cell_type": "markdown",
   "id": "fb979177-633a-4c14-b9a3-7de41af82029",
   "metadata": {},
   "source": [
    "### c. Assign Values:\n",
    "We can assign/re-assign values to the specified index-value using `series_name[INDEX_VALUE] = value`"
   ]
  },
  {
   "cell_type": "code",
   "execution_count": 13,
   "id": "f8e6ac75-9d69-40ba-8f06-489962ece86d",
   "metadata": {},
   "outputs": [
    {
     "data": {
      "text/plain": [
       "a    10\n",
       "b    50\n",
       "c    30\n",
       "d    40\n",
       "dtype: int64"
      ]
     },
     "execution_count": 13,
     "metadata": {},
     "output_type": "execute_result"
    }
   ],
   "source": [
    "obj2['b'] = 50\n",
    "obj2"
   ]
  },
  {
   "cell_type": "markdown",
   "id": "df621cb2-98f4-4873-9181-f037cd48a164",
   "metadata": {},
   "source": [
    "## 5. Array Operations:\n",
    "Perform array operations on a series without destroying or damaging the ***index-value*** link."
   ]
  },
  {
   "cell_type": "markdown",
   "id": "8c60f9d0-29dc-49ac-8730-dfa6cde1ef41",
   "metadata": {},
   "source": [
    "### a. Boolean array operation: "
   ]
  },
  {
   "cell_type": "code",
   "execution_count": 15,
   "id": "041d9680-574e-4a9c-a559-965873e1edee",
   "metadata": {},
   "outputs": [
    {
     "data": {
      "text/plain": [
       "b    50\n",
       "d    40\n",
       "dtype: int64"
      ]
     },
     "execution_count": 15,
     "metadata": {},
     "output_type": "execute_result"
    }
   ],
   "source": [
    "obj2[obj2 > 30] # values greater than 30 in a series"
   ]
  },
  {
   "cell_type": "markdown",
   "id": "e1c66cad-c1dc-47d4-96bb-b68bb5992393",
   "metadata": {},
   "source": [
    "### b. Scalar Multiplication:"
   ]
  },
  {
   "cell_type": "code",
   "execution_count": 16,
   "id": "3e623753-161a-4623-aa2f-95aaa95aa22f",
   "metadata": {},
   "outputs": [
    {
     "data": {
      "text/plain": [
       "a     20\n",
       "b    100\n",
       "c     60\n",
       "d     80\n",
       "dtype: int64"
      ]
     },
     "execution_count": 16,
     "metadata": {},
     "output_type": "execute_result"
    }
   ],
   "source": [
    "obj2 * 2"
   ]
  },
  {
   "cell_type": "markdown",
   "id": "76df4450-6129-4a80-9741-2d544f842e5a",
   "metadata": {},
   "source": [
    "### c. Math function:"
   ]
  },
  {
   "cell_type": "code",
   "execution_count": 18,
   "id": "5178a31a-b4f8-48f9-a9cf-f1c33d8ae840",
   "metadata": {},
   "outputs": [
    {
     "data": {
      "text/plain": [
       "a     100\n",
       "b    2500\n",
       "c     900\n",
       "d    1600\n",
       "dtype: int64"
      ]
     },
     "execution_count": 18,
     "metadata": {},
     "output_type": "execute_result"
    }
   ],
   "source": [
    "np.square(obj2) # numpy square method"
   ]
  },
  {
   "cell_type": "markdown",
   "id": "3ff88fea-f432-48e6-957c-c910d6d35f1d",
   "metadata": {},
   "source": [
    "## 6. Dict-Method on Series:\n",
    "Just like **Python-Dictionaries**, a series can also be considered as dict-type as it is of ***index-value*** pair. Hence we can perform dict-methods that expect a dict."
   ]
  },
  {
   "cell_type": "code",
   "execution_count": 19,
   "id": "09896b5b-5392-41b8-acc7-4cca8a185050",
   "metadata": {},
   "outputs": [
    {
     "data": {
      "text/plain": [
       "True"
      ]
     },
     "execution_count": 19,
     "metadata": {},
     "output_type": "execute_result"
    }
   ],
   "source": [
    "'c' in obj2"
   ]
  },
  {
   "cell_type": "code",
   "execution_count": 20,
   "id": "b896329b-ae88-4a02-8e5e-156ae3387c53",
   "metadata": {},
   "outputs": [
    {
     "data": {
      "text/plain": [
       "False"
      ]
     },
     "execution_count": 20,
     "metadata": {},
     "output_type": "execute_result"
    }
   ],
   "source": [
    "'e' in obj2"
   ]
  },
  {
   "cell_type": "markdown",
   "id": "846b721f-aad0-4caf-a969-58f64197be36",
   "metadata": {},
   "source": [
    "## 7. Create a series by passing a dict(dictionary):\n",
    "We can create a series by passing a dictionary to the Series method:"
   ]
  },
  {
   "cell_type": "code",
   "execution_count": 25,
   "id": "b840dd8a-ee78-43d2-a700-6a7b0e2e3901",
   "metadata": {},
   "outputs": [],
   "source": [
    "# Dictionary consisting information of states of US\n",
    "sdata = {'Ohio' : 35000,\n",
    "        'Texas' : 71000,\n",
    "        'Oregon': 16000,\n",
    "        'Utah': 5000\n",
    "        }"
   ]
  },
  {
   "cell_type": "code",
   "execution_count": 27,
   "id": "0d3deb69-79e4-47ff-98b1-1da2984a8adb",
   "metadata": {},
   "outputs": [
    {
     "data": {
      "text/plain": [
       "Ohio      35000\n",
       "Texas     71000\n",
       "Oregon    16000\n",
       "Utah       5000\n",
       "dtype: int64"
      ]
     },
     "execution_count": 27,
     "metadata": {},
     "output_type": "execute_result"
    }
   ],
   "source": [
    "obj3 = Series(sdata)\n",
    "obj3"
   ]
  },
  {
   "cell_type": "markdown",
   "id": "a94a5de2-b5b4-44de-8585-ecdbff6e5797",
   "metadata": {},
   "source": [
    "## 8. Passing index to a series:\n",
    "**NaN** : Not an Number"
   ]
  },
  {
   "cell_type": "code",
   "execution_count": 31,
   "id": "b764395c-6af8-4387-83ab-dfcd6f57683f",
   "metadata": {},
   "outputs": [],
   "source": [
    "states = ['California', 'Ohio', 'Oregon', 'Texas']"
   ]
  },
  {
   "cell_type": "code",
   "execution_count": 32,
   "id": "d44d670f-75a8-4f58-98a4-a04534de1e9e",
   "metadata": {},
   "outputs": [],
   "source": [
    "obj4 = Series(sdata, index=states)"
   ]
  },
  {
   "cell_type": "code",
   "execution_count": 33,
   "id": "af2bd8e2-c92f-4cbd-a370-2b8f3daef0b1",
   "metadata": {},
   "outputs": [
    {
     "data": {
      "text/plain": [
       "California        NaN\n",
       "Ohio          35000.0\n",
       "Oregon        16000.0\n",
       "Texas         71000.0\n",
       "dtype: float64"
      ]
     },
     "execution_count": 33,
     "metadata": {},
     "output_type": "execute_result"
    }
   ],
   "source": [
    "obj4"
   ]
  },
  {
   "cell_type": "markdown",
   "id": "37b6401d-1efc-41af-9a20-3bb96e2ff73f",
   "metadata": {},
   "source": [
    "## 9. Detect Missing Data:\n",
    "we can detect missing data using `isnull()` and `notnull()` methods:"
   ]
  },
  {
   "cell_type": "code",
   "execution_count": 34,
   "id": "493bd006-8b0b-4b66-adce-460fda83251a",
   "metadata": {},
   "outputs": [
    {
     "data": {
      "text/plain": [
       "California     True\n",
       "Ohio          False\n",
       "Oregon        False\n",
       "Texas         False\n",
       "dtype: bool"
      ]
     },
     "execution_count": 34,
     "metadata": {},
     "output_type": "execute_result"
    }
   ],
   "source": [
    "obj4.isnull()"
   ]
  },
  {
   "cell_type": "code",
   "execution_count": 35,
   "id": "296b12d5-a63c-4646-8d13-3974286922f0",
   "metadata": {},
   "outputs": [
    {
     "data": {
      "text/plain": [
       "California    False\n",
       "Ohio           True\n",
       "Oregon         True\n",
       "Texas          True\n",
       "dtype: bool"
      ]
     },
     "execution_count": 35,
     "metadata": {},
     "output_type": "execute_result"
    }
   ],
   "source": [
    "obj4.notnull()"
   ]
  },
  {
   "cell_type": "markdown",
   "id": "947a443f-bc9e-4782-9045-8e00c9228ae1",
   "metadata": {},
   "source": [
    "## 10. Arithmatic Operations:\n",
    "A series automatically aligns differently-indexed data in arithmatic operations."
   ]
  },
  {
   "cell_type": "code",
   "execution_count": 36,
   "id": "d1d0272e-4b48-4566-a369-70c6bc849cde",
   "metadata": {},
   "outputs": [
    {
     "data": {
      "text/plain": [
       "Ohio      35000\n",
       "Texas     71000\n",
       "Oregon    16000\n",
       "Utah       5000\n",
       "dtype: int64"
      ]
     },
     "execution_count": 36,
     "metadata": {},
     "output_type": "execute_result"
    }
   ],
   "source": [
    "obj3"
   ]
  },
  {
   "cell_type": "code",
   "execution_count": 37,
   "id": "9c777f4c-137d-4239-aba1-369b247c2329",
   "metadata": {},
   "outputs": [
    {
     "data": {
      "text/plain": [
       "California        NaN\n",
       "Ohio          35000.0\n",
       "Oregon        16000.0\n",
       "Texas         71000.0\n",
       "dtype: float64"
      ]
     },
     "execution_count": 37,
     "metadata": {},
     "output_type": "execute_result"
    }
   ],
   "source": [
    "obj4"
   ]
  },
  {
   "cell_type": "code",
   "execution_count": 39,
   "id": "d208b72c-e570-4360-b80d-78e9220684f3",
   "metadata": {},
   "outputs": [
    {
     "data": {
      "text/plain": [
       "California         NaN\n",
       "Ohio           70000.0\n",
       "Oregon         32000.0\n",
       "Texas         142000.0\n",
       "Utah               NaN\n",
       "dtype: float64"
      ]
     },
     "execution_count": 39,
     "metadata": {},
     "output_type": "execute_result"
    }
   ],
   "source": [
    "obj3 + obj4"
   ]
  },
  {
   "cell_type": "markdown",
   "id": "6efa8458-eee6-40ce-82a8-6a4b81dbf2f3",
   "metadata": {},
   "source": [
    "## 11. Rename series, index and value:"
   ]
  },
  {
   "cell_type": "markdown",
   "id": "85902f68-22c3-46ef-9d2e-404b3a103261",
   "metadata": {},
   "source": [
    "### a. Series:\n",
    "We can name the whole series using `series.name = 'SERIES_NAME'`"
   ]
  },
  {
   "cell_type": "code",
   "execution_count": 41,
   "id": "23e5c428-effb-4173-b813-5468887dafb1",
   "metadata": {},
   "outputs": [
    {
     "data": {
      "text/plain": [
       "California        NaN\n",
       "Ohio          35000.0\n",
       "Oregon        16000.0\n",
       "Texas         71000.0\n",
       "Name: Population, dtype: float64"
      ]
     },
     "execution_count": 41,
     "metadata": {},
     "output_type": "execute_result"
    }
   ],
   "source": [
    "obj4.name = 'Population'\n",
    "obj4"
   ]
  },
  {
   "cell_type": "markdown",
   "id": "76ae3b2b-0682-4e2c-8728-8a6f3b579d22",
   "metadata": {},
   "source": [
    "### b. Index:\n",
    "We can name the index in a series using `series.index.name = 'INDEX_NAME'`"
   ]
  },
  {
   "cell_type": "code",
   "execution_count": 42,
   "id": "92f48d45-ff83-484f-b1e8-4f813eecaedb",
   "metadata": {},
   "outputs": [
    {
     "data": {
      "text/plain": [
       "States\n",
       "California        NaN\n",
       "Ohio          35000.0\n",
       "Oregon        16000.0\n",
       "Texas         71000.0\n",
       "Name: Population, dtype: float64"
      ]
     },
     "execution_count": 42,
     "metadata": {},
     "output_type": "execute_result"
    }
   ],
   "source": [
    "obj4.index.name = 'States'\n",
    "obj4"
   ]
  }
 ],
 "metadata": {
  "kernelspec": {
   "display_name": "Python 3 (ipykernel)",
   "language": "python",
   "name": "python3"
  },
  "language_info": {
   "codemirror_mode": {
    "name": "ipython",
    "version": 3
   },
   "file_extension": ".py",
   "mimetype": "text/x-python",
   "name": "python",
   "nbconvert_exporter": "python",
   "pygments_lexer": "ipython3",
   "version": "3.13.1"
  }
 },
 "nbformat": 4,
 "nbformat_minor": 5
}
