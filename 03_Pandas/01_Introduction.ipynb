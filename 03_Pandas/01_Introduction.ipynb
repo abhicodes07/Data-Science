{
 "cells": [
  {
   "cell_type": "markdown",
   "id": "496d5124-f515-477b-b687-e5c6000028ff",
   "metadata": {},
   "source": [
    "# Introduction To Pandas\n",
    "Pandas is a python library containing high-level data structures and maipulation tools designed to make data analysis fast and easy in python.\n",
    "Pandas is built on the top of NumPy and amkes it easy to use in NumPy centric algorithm."
   ]
  },
  {
   "cell_type": "markdown",
   "id": "57b25b78-d725-4113-b77d-1078132a4db0",
   "metadata": {},
   "source": [
    "## Import Pandas and It's Data Structures\n",
    "There are two main data structures in python-pandas: <br>\n",
    "1. **Series** <br>\n",
    "2. **DataFrame**"
   ]
  },
  {
   "cell_type": "code",
   "execution_count": 1,
   "id": "66f555c0-2cfd-4967-b537-7e6308cc165a",
   "metadata": {},
   "outputs": [],
   "source": [
    "import pandas as pd\n",
    "from pandas import Series, DataFrame"
   ]
  }
 ],
 "metadata": {
  "kernelspec": {
   "display_name": "Python 3 (ipykernel)",
   "language": "python",
   "name": "python3"
  },
  "language_info": {
   "codemirror_mode": {
    "name": "ipython",
    "version": 3
   },
   "file_extension": ".py",
   "mimetype": "text/x-python",
   "name": "python",
   "nbconvert_exporter": "python",
   "pygments_lexer": "ipython3",
   "version": "3.13.1"
  }
 },
 "nbformat": 4,
 "nbformat_minor": 5
}
