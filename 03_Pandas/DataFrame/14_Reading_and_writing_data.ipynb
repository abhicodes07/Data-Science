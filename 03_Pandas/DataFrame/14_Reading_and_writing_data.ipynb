{
 "cells": [
  {
   "cell_type": "markdown",
   "id": "0c04d7be-fea9-45fc-8f62-9355de7caf07",
   "metadata": {},
   "source": [
    "# Reading and Writing Data in Text Format"
   ]
  },
  {
   "cell_type": "code",
   "execution_count": 1,
   "id": "1718d8b8-1324-4486-ae3b-5b64c8e77444",
   "metadata": {},
   "outputs": [],
   "source": [
    "import numpy as np\n",
    "import pandas as pd\n",
    "from pandas import Series, DataFrame"
   ]
  },
  {
   "attachments": {},
   "cell_type": "markdown",
   "id": "f04ba424-b867-48e8-af5d-615ef786b3e9",
   "metadata": {},
   "source": [
    "## Reading and writing data in text formats\n",
    "- `read_csv` and `read_table` are some of the most used pandas function for reading tabular data such as tables and csv files as Dataframe objects.\n",
    "- Here, I have a small comma seperated data set for daily sales of product:\n",
    "`daily_sales_data_0` etc. \n",
    "- Since the `daily_sales_data_0` is **Comma** seperated or delimited, we can use read_csv function to read it into dataframe."
   ]
  },
  {
   "cell_type": "markdown",
   "id": "f9d16b8f-2141-4b59-a25c-ea499c5401f2",
   "metadata": {},
   "source": [
    "### 📌Features\n",
    "1. _Type Inference_: we don't have to specify the data type of each column."
   ]
  },
  {
   "cell_type": "code",
   "execution_count": 2,
   "id": "a0cf17a3-6779-45a0-af42-0ec4efbececa",
   "metadata": {},
   "outputs": [],
   "source": [
    "# read_csv function used ',' as by default delimiter\n",
    "df = pd.read_csv('daily_sales_data_0.csv')"
   ]
  },
  {
   "cell_type": "code",
   "execution_count": 3,
   "id": "63ca1ec9-606c-4584-8741-7d2064439b03",
   "metadata": {},
   "outputs": [
    {
     "data": {
      "text/html": [
       "<div>\n",
       "<style scoped>\n",
       "    .dataframe tbody tr th:only-of-type {\n",
       "        vertical-align: middle;\n",
       "    }\n",
       "\n",
       "    .dataframe tbody tr th {\n",
       "        vertical-align: top;\n",
       "    }\n",
       "\n",
       "    .dataframe thead th {\n",
       "        text-align: right;\n",
       "    }\n",
       "</style>\n",
       "<table border=\"1\" class=\"dataframe\">\n",
       "  <thead>\n",
       "    <tr style=\"text-align: right;\">\n",
       "      <th></th>\n",
       "      <th>product</th>\n",
       "      <th>price</th>\n",
       "      <th>quantity</th>\n",
       "      <th>date</th>\n",
       "      <th>region</th>\n",
       "    </tr>\n",
       "  </thead>\n",
       "  <tbody>\n",
       "    <tr>\n",
       "      <th>0</th>\n",
       "      <td>pink morsel</td>\n",
       "      <td>$3.00</td>\n",
       "      <td>546</td>\n",
       "      <td>2018-02-06</td>\n",
       "      <td>north</td>\n",
       "    </tr>\n",
       "    <tr>\n",
       "      <th>1</th>\n",
       "      <td>pink morsel</td>\n",
       "      <td>$3.00</td>\n",
       "      <td>549</td>\n",
       "      <td>2018-02-06</td>\n",
       "      <td>south</td>\n",
       "    </tr>\n",
       "    <tr>\n",
       "      <th>2</th>\n",
       "      <td>pink morsel</td>\n",
       "      <td>$3.00</td>\n",
       "      <td>577</td>\n",
       "      <td>2018-02-06</td>\n",
       "      <td>east</td>\n",
       "    </tr>\n",
       "    <tr>\n",
       "      <th>3</th>\n",
       "      <td>pink morsel</td>\n",
       "      <td>$3.00</td>\n",
       "      <td>519</td>\n",
       "      <td>2018-02-06</td>\n",
       "      <td>west</td>\n",
       "    </tr>\n",
       "    <tr>\n",
       "      <th>4</th>\n",
       "      <td>gold morsel</td>\n",
       "      <td>$9.99</td>\n",
       "      <td>580</td>\n",
       "      <td>2018-02-06</td>\n",
       "      <td>north</td>\n",
       "    </tr>\n",
       "  </tbody>\n",
       "</table>\n",
       "</div>"
      ],
      "text/plain": [
       "       product  price  quantity        date region\n",
       "0  pink morsel  $3.00       546  2018-02-06  north\n",
       "1  pink morsel  $3.00       549  2018-02-06  south\n",
       "2  pink morsel  $3.00       577  2018-02-06   east\n",
       "3  pink morsel  $3.00       519  2018-02-06   west\n",
       "4  gold morsel  $9.99       580  2018-02-06  north"
      ]
     },
     "execution_count": 3,
     "metadata": {},
     "output_type": "execute_result"
    }
   ],
   "source": [
    "df.head() # returns first n rows, default 5"
   ]
  },
  {
   "cell_type": "markdown",
   "id": "b40894c0-63f3-4d3b-a6d4-d2510ee150df",
   "metadata": {},
   "source": [
    "- However, we can use `read_table` function also by providing an seperator attribute as comma."
   ]
  },
  {
   "cell_type": "code",
   "execution_count": 4,
   "id": "f2b0d850-3b71-472f-9cf2-d6018f0b4294",
   "metadata": {},
   "outputs": [
    {
     "data": {
      "text/html": [
       "<div>\n",
       "<style scoped>\n",
       "    .dataframe tbody tr th:only-of-type {\n",
       "        vertical-align: middle;\n",
       "    }\n",
       "\n",
       "    .dataframe tbody tr th {\n",
       "        vertical-align: top;\n",
       "    }\n",
       "\n",
       "    .dataframe thead th {\n",
       "        text-align: right;\n",
       "    }\n",
       "</style>\n",
       "<table border=\"1\" class=\"dataframe\">\n",
       "  <thead>\n",
       "    <tr style=\"text-align: right;\">\n",
       "      <th></th>\n",
       "      <th>product</th>\n",
       "      <th>price</th>\n",
       "      <th>quantity</th>\n",
       "      <th>date</th>\n",
       "      <th>region</th>\n",
       "    </tr>\n",
       "  </thead>\n",
       "  <tbody>\n",
       "    <tr>\n",
       "      <th>0</th>\n",
       "      <td>pink morsel</td>\n",
       "      <td>$3.00</td>\n",
       "      <td>545</td>\n",
       "      <td>2019-06-11</td>\n",
       "      <td>north</td>\n",
       "    </tr>\n",
       "    <tr>\n",
       "      <th>1</th>\n",
       "      <td>pink morsel</td>\n",
       "      <td>$3.00</td>\n",
       "      <td>521</td>\n",
       "      <td>2019-06-11</td>\n",
       "      <td>south</td>\n",
       "    </tr>\n",
       "    <tr>\n",
       "      <th>2</th>\n",
       "      <td>pink morsel</td>\n",
       "      <td>$3.00</td>\n",
       "      <td>595</td>\n",
       "      <td>2019-06-11</td>\n",
       "      <td>east</td>\n",
       "    </tr>\n",
       "    <tr>\n",
       "      <th>3</th>\n",
       "      <td>pink morsel</td>\n",
       "      <td>$3.00</td>\n",
       "      <td>507</td>\n",
       "      <td>2019-06-11</td>\n",
       "      <td>west</td>\n",
       "    </tr>\n",
       "    <tr>\n",
       "      <th>4</th>\n",
       "      <td>gold morsel</td>\n",
       "      <td>$9.99</td>\n",
       "      <td>529</td>\n",
       "      <td>2019-06-11</td>\n",
       "      <td>north</td>\n",
       "    </tr>\n",
       "  </tbody>\n",
       "</table>\n",
       "</div>"
      ],
      "text/plain": [
       "       product  price  quantity        date region\n",
       "0  pink morsel  $3.00       545  2019-06-11  north\n",
       "1  pink morsel  $3.00       521  2019-06-11  south\n",
       "2  pink morsel  $3.00       595  2019-06-11   east\n",
       "3  pink morsel  $3.00       507  2019-06-11   west\n",
       "4  gold morsel  $9.99       529  2019-06-11  north"
      ]
     },
     "execution_count": 4,
     "metadata": {},
     "output_type": "execute_result"
    }
   ],
   "source": [
    "pd.read_table('daily_sales_data_1.csv', sep=\",\").head()"
   ]
  },
  {
   "cell_type": "markdown",
   "id": "412aefea-6a1c-4aa4-bbac-206628e2c465",
   "metadata": {},
   "source": [
    "### Assigning our own headers or no header at all"
   ]
  },
  {
   "cell_type": "code",
   "execution_count": 7,
   "id": "8fac718a-dad5-45e4-b306-7f162e0fc8bb",
   "metadata": {},
   "outputs": [
    {
     "data": {
      "text/html": [
       "<div>\n",
       "<style scoped>\n",
       "    .dataframe tbody tr th:only-of-type {\n",
       "        vertical-align: middle;\n",
       "    }\n",
       "\n",
       "    .dataframe tbody tr th {\n",
       "        vertical-align: top;\n",
       "    }\n",
       "\n",
       "    .dataframe thead th {\n",
       "        text-align: right;\n",
       "    }\n",
       "</style>\n",
       "<table border=\"1\" class=\"dataframe\">\n",
       "  <thead>\n",
       "    <tr style=\"text-align: right;\">\n",
       "      <th></th>\n",
       "      <th>0</th>\n",
       "      <th>1</th>\n",
       "      <th>2</th>\n",
       "      <th>3</th>\n",
       "      <th>4</th>\n",
       "    </tr>\n",
       "  </thead>\n",
       "  <tbody>\n",
       "    <tr>\n",
       "      <th>0</th>\n",
       "      <td>product</td>\n",
       "      <td>price</td>\n",
       "      <td>quantity</td>\n",
       "      <td>date</td>\n",
       "      <td>region</td>\n",
       "    </tr>\n",
       "    <tr>\n",
       "      <th>1</th>\n",
       "      <td>pink morsel</td>\n",
       "      <td>$3.00</td>\n",
       "      <td>545</td>\n",
       "      <td>2019-06-11</td>\n",
       "      <td>north</td>\n",
       "    </tr>\n",
       "    <tr>\n",
       "      <th>2</th>\n",
       "      <td>pink morsel</td>\n",
       "      <td>$3.00</td>\n",
       "      <td>521</td>\n",
       "      <td>2019-06-11</td>\n",
       "      <td>south</td>\n",
       "    </tr>\n",
       "    <tr>\n",
       "      <th>3</th>\n",
       "      <td>pink morsel</td>\n",
       "      <td>$3.00</td>\n",
       "      <td>595</td>\n",
       "      <td>2019-06-11</td>\n",
       "      <td>east</td>\n",
       "    </tr>\n",
       "    <tr>\n",
       "      <th>4</th>\n",
       "      <td>pink morsel</td>\n",
       "      <td>$3.00</td>\n",
       "      <td>507</td>\n",
       "      <td>2019-06-11</td>\n",
       "      <td>west</td>\n",
       "    </tr>\n",
       "  </tbody>\n",
       "</table>\n",
       "</div>"
      ],
      "text/plain": [
       "             0      1         2           3       4\n",
       "0      product  price  quantity        date  region\n",
       "1  pink morsel  $3.00       545  2019-06-11   north\n",
       "2  pink morsel  $3.00       521  2019-06-11   south\n",
       "3  pink morsel  $3.00       595  2019-06-11    east\n",
       "4  pink morsel  $3.00       507  2019-06-11    west"
      ]
     },
     "execution_count": 7,
     "metadata": {},
     "output_type": "execute_result"
    }
   ],
   "source": [
    "# pandas default header\n",
    "pd.read_csv('daily_sales_data_1.csv', header=None).head()"
   ]
  },
  {
   "cell_type": "code",
   "execution_count": 14,
   "id": "00a8e3ce-76a1-40c4-9e76-2af4aad5b7b2",
   "metadata": {},
   "outputs": [
    {
     "data": {
      "text/html": [
       "<div>\n",
       "<style scoped>\n",
       "    .dataframe tbody tr th:only-of-type {\n",
       "        vertical-align: middle;\n",
       "    }\n",
       "\n",
       "    .dataframe tbody tr th {\n",
       "        vertical-align: top;\n",
       "    }\n",
       "\n",
       "    .dataframe thead th {\n",
       "        text-align: right;\n",
       "    }\n",
       "</style>\n",
       "<table border=\"1\" class=\"dataframe\">\n",
       "  <thead>\n",
       "    <tr style=\"text-align: right;\">\n",
       "      <th></th>\n",
       "      <th>a</th>\n",
       "      <th>b</th>\n",
       "      <th>c</th>\n",
       "      <th>d</th>\n",
       "      <th>e</th>\n",
       "    </tr>\n",
       "  </thead>\n",
       "  <tbody>\n",
       "    <tr>\n",
       "      <th>0</th>\n",
       "      <td>product</td>\n",
       "      <td>price</td>\n",
       "      <td>quantity</td>\n",
       "      <td>date</td>\n",
       "      <td>region</td>\n",
       "    </tr>\n",
       "    <tr>\n",
       "      <th>1</th>\n",
       "      <td>pink morsel</td>\n",
       "      <td>$3.00</td>\n",
       "      <td>545</td>\n",
       "      <td>2019-06-11</td>\n",
       "      <td>north</td>\n",
       "    </tr>\n",
       "    <tr>\n",
       "      <th>2</th>\n",
       "      <td>pink morsel</td>\n",
       "      <td>$3.00</td>\n",
       "      <td>521</td>\n",
       "      <td>2019-06-11</td>\n",
       "      <td>south</td>\n",
       "    </tr>\n",
       "    <tr>\n",
       "      <th>3</th>\n",
       "      <td>pink morsel</td>\n",
       "      <td>$3.00</td>\n",
       "      <td>595</td>\n",
       "      <td>2019-06-11</td>\n",
       "      <td>east</td>\n",
       "    </tr>\n",
       "    <tr>\n",
       "      <th>4</th>\n",
       "      <td>pink morsel</td>\n",
       "      <td>$3.00</td>\n",
       "      <td>507</td>\n",
       "      <td>2019-06-11</td>\n",
       "      <td>west</td>\n",
       "    </tr>\n",
       "  </tbody>\n",
       "</table>\n",
       "</div>"
      ],
      "text/plain": [
       "             a      b         c           d       e\n",
       "0      product  price  quantity        date  region\n",
       "1  pink morsel  $3.00       545  2019-06-11   north\n",
       "2  pink morsel  $3.00       521  2019-06-11   south\n",
       "3  pink morsel  $3.00       595  2019-06-11    east\n",
       "4  pink morsel  $3.00       507  2019-06-11    west"
      ]
     },
     "execution_count": 14,
     "metadata": {},
     "output_type": "execute_result"
    }
   ],
   "source": [
    "# User-Defined Header\n",
    "pd.read_csv('daily_sales_data_1.csv', names=['a', 'b', 'c', 'd', 'e']).head()"
   ]
  },
  {
   "cell_type": "code",
   "execution_count": null,
   "id": "c46dd8e2-72cb-4e8e-9368-81b97cb2a6cf",
   "metadata": {},
   "outputs": [],
   "source": []
  }
 ],
 "metadata": {
  "kernelspec": {
   "display_name": "Python 3 (ipykernel)",
   "language": "python",
   "name": "python3"
  },
  "language_info": {
   "codemirror_mode": {
    "name": "ipython",
    "version": 3
   },
   "file_extension": ".py",
   "mimetype": "text/x-python",
   "name": "python",
   "nbconvert_exporter": "python",
   "pygments_lexer": "ipython3",
   "version": "3.13.1"
  }
 },
 "nbformat": 4,
 "nbformat_minor": 5
}
