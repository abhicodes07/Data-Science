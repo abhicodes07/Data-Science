{
 "cells": [
  {
   "cell_type": "markdown",
   "id": "40941212-d639-4fbd-be68-874a77b0ad87",
   "metadata": {},
   "source": [
    "# Unique Values, Value Counts and Membership"
   ]
  },
  {
   "cell_type": "code",
   "execution_count": 1,
   "id": "e401755d-ec6e-44a4-a235-e7c8a3ad000d",
   "metadata": {},
   "outputs": [],
   "source": [
    "import pandas as pd\n",
    "import numpy as np\n",
    "from pandas import DataFrame, Series"
   ]
  },
  {
   "cell_type": "code",
   "execution_count": 2,
   "id": "1f85a413-d75e-4fad-8786-a7061d9a098e",
   "metadata": {},
   "outputs": [],
   "source": [
    "obj = Series(['c', 'a', 'd', 'a', 'a', 'b', 'b', 'c', 'c'])"
   ]
  },
  {
   "cell_type": "markdown",
   "id": "6e3501f4-ae8f-408b-8173-4d4e45a7c329",
   "metadata": {},
   "source": [
    "Uniques- gives array of unique values"
   ]
  },
  {
   "cell_type": "code",
   "execution_count": 3,
   "id": "069cf2e4-d5a1-4ee2-aeea-a7c973a18153",
   "metadata": {},
   "outputs": [
    {
     "data": {
      "text/plain": [
       "array(['c', 'a', 'd', 'b'], dtype=object)"
      ]
     },
     "execution_count": 3,
     "metadata": {},
     "output_type": "execute_result"
    }
   ],
   "source": [
    "obj.unique()"
   ]
  },
  {
   "cell_type": "markdown",
   "id": "84f7bb1c-a878-460d-8f47-1a0afea5ff73",
   "metadata": {},
   "source": [
    "Compute a series containing value frequencies"
   ]
  },
  {
   "cell_type": "code",
   "execution_count": 4,
   "id": "de14757c-7270-4977-97e8-2450fa0b8521",
   "metadata": {},
   "outputs": [
    {
     "data": {
      "text/plain": [
       "c    3\n",
       "a    3\n",
       "b    2\n",
       "d    1\n",
       "Name: count, dtype: int64"
      ]
     },
     "execution_count": 4,
     "metadata": {},
     "output_type": "execute_result"
    }
   ],
   "source": [
    "obj.value_counts()"
   ]
  },
  {
   "cell_type": "markdown",
   "id": "0123dfda-eb98-43d7-bf70-a89199551fe1",
   "metadata": {},
   "source": [
    "isin: filter a data set down to subset of values"
   ]
  },
  {
   "cell_type": "code",
   "execution_count": 8,
   "id": "2164bee7-1b72-4423-acc6-3bbc1dd650fc",
   "metadata": {},
   "outputs": [
    {
     "data": {
      "text/plain": [
       "0    False\n",
       "1     True\n",
       "2    False\n",
       "3     True\n",
       "4     True\n",
       "5     True\n",
       "6     True\n",
       "7    False\n",
       "8    False\n",
       "dtype: bool"
      ]
     },
     "execution_count": 8,
     "metadata": {},
     "output_type": "execute_result"
    }
   ],
   "source": [
    "mask = obj.isin(['a', 'b'])\n",
    "mask"
   ]
  },
  {
   "cell_type": "code",
   "execution_count": 9,
   "id": "ead92df6-1469-4953-801d-6a777f640f9a",
   "metadata": {},
   "outputs": [
    {
     "data": {
      "text/plain": [
       "1    a\n",
       "3    a\n",
       "4    a\n",
       "5    b\n",
       "6    b\n",
       "dtype: object"
      ]
     },
     "execution_count": 9,
     "metadata": {},
     "output_type": "execute_result"
    }
   ],
   "source": [
    "obj[mask]"
   ]
  }
 ],
 "metadata": {
  "kernelspec": {
   "display_name": "Python 3 (ipykernel)",
   "language": "python",
   "name": "python3"
  },
  "language_info": {
   "codemirror_mode": {
    "name": "ipython",
    "version": 3
   },
   "file_extension": ".py",
   "mimetype": "text/x-python",
   "name": "python",
   "nbconvert_exporter": "python",
   "pygments_lexer": "ipython3",
   "version": "3.13.1"
  }
 },
 "nbformat": 4,
 "nbformat_minor": 5
}
