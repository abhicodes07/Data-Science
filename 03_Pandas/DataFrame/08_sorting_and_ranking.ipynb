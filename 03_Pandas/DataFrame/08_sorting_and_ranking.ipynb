{
 "cells": [
  {
   "cell_type": "markdown",
   "id": "b44f6f3d-05f3-4bf4-a12f-0187c5d5aba3",
   "metadata": {},
   "source": [
    "# Sorting and Ranking"
   ]
  },
  {
   "cell_type": "code",
   "execution_count": 1,
   "id": "6fc4dd84-12df-407d-bb00-5493c0138f59",
   "metadata": {},
   "outputs": [],
   "source": [
    "import numpy as np\n",
    "import pandas as pd\n",
    "from pandas import DataFrame, Series"
   ]
  },
  {
   "cell_type": "markdown",
   "id": "31c576af-e6ad-4e85-b5e0-d5c0259854df",
   "metadata": {},
   "source": [
    "- Sorting a data set by some criteria is a important operation.\n",
    "- `sort_index()` method can be used to sort row or column index lexicographically (in a dictionary or alphabetical order)"
   ]
  }
 ],
 "metadata": {
  "kernelspec": {
   "display_name": "Python 3 (ipykernel)",
   "language": "python",
   "name": "python3"
  },
  "language_info": {
   "codemirror_mode": {
    "name": "ipython",
    "version": 3
   },
   "file_extension": ".py",
   "mimetype": "text/x-python",
   "name": "python",
   "nbconvert_exporter": "python",
   "pygments_lexer": "ipython3",
   "version": "3.13.1"
  }
 },
 "nbformat": 4,
 "nbformat_minor": 5
}
