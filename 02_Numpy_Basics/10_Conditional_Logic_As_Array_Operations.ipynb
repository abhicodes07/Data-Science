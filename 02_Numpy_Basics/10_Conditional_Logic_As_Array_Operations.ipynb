{
 "cells": [
  {
   "cell_type": "markdown",
   "id": "4b46bf6b-46d6-461a-9b79-b86d3eca1ac1",
   "metadata": {},
   "source": [
    "# Express Conditional Logic as Array Operations\n",
    "***numpy.where*** function is a vectorized version of the ternary expressions `x if condition else y`."
   ]
  },
  {
   "cell_type": "code",
   "execution_count": 1,
   "id": "21e1f2c6-eacb-4fdb-b132-770ac807907a",
   "metadata": {},
   "outputs": [],
   "source": [
    "import numpy as np"
   ]
  },
  {
   "cell_type": "code",
   "execution_count": 2,
   "id": "e5467a4e-5af9-4132-be2b-8f5df743c7fb",
   "metadata": {},
   "outputs": [],
   "source": [
    "arr = np.random.randn(4, 4)"
   ]
  },
  {
   "cell_type": "code",
   "execution_count": 3,
   "id": "1f496c66-c134-4af6-acde-eb3e9aa76e14",
   "metadata": {},
   "outputs": [
    {
     "data": {
      "text/plain": [
       "array([[ 0.48586089,  1.32522804, -0.29587506, -1.87262472],\n",
       "       [ 1.28003038, -0.96740364,  0.44273751,  0.74021442],\n",
       "       [ 0.43359123,  1.50400424, -0.82521396, -0.8006623 ],\n",
       "       [-1.22025536, -0.46597261,  0.26021863,  0.69347575]])"
      ]
     },
     "execution_count": 3,
     "metadata": {},
     "output_type": "execute_result"
    }
   ],
   "source": [
    "arr"
   ]
  },
  {
   "cell_type": "markdown",
   "id": "a39ce591-0984-4b0f-9fb6-a2ad4f560268",
   "metadata": {},
   "source": [
    "Here, we have a matrix of random numbers in which I want to replace all the random negative values with -2 and all the positive values with 2. we can use `numpy.where()` function to get this behaviour: "
   ]
  },
  {
   "cell_type": "code",
   "execution_count": 4,
   "id": "d84a11c2-32f1-4d6a-b857-129cc88a57ed",
   "metadata": {},
   "outputs": [
    {
     "data": {
      "text/plain": [
       "array([[ 2,  2, -2, -2],\n",
       "       [ 2, -2,  2,  2],\n",
       "       [ 2,  2, -2, -2],\n",
       "       [-2, -2,  2,  2]])"
      ]
     },
     "execution_count": 4,
     "metadata": {},
     "output_type": "execute_result"
    }
   ],
   "source": [
    "np.where((arr>0), 2, -2)"
   ]
  },
  {
   "cell_type": "markdown",
   "id": "1595560d-3715-4a07-b08a-ca07a6037696",
   "metadata": {},
   "source": [
    "Above statement can be understood with following approach:"
   ]
  },
  {
   "cell_type": "code",
   "execution_count": 8,
   "id": "c3ba6482-28cf-476c-94c3-06fd992d5beb",
   "metadata": {},
   "outputs": [
    {
     "name": "stdout",
     "output_type": "stream",
     "text": [
      "[[ 1.  1. -1. -1.]\n",
      " [ 1. -1.  1.  1.]\n",
      " [ 1.  1. -1. -1.]\n",
      " [-1. -1.  1.  1.]]\n"
     ]
    }
   ],
   "source": [
    "for i in range(4):\n",
    "    for j in range(4):\n",
    "        if arr[i][j] > 0:\n",
    "            arr[i][j] = 1\n",
    "        else: \n",
    "            arr[i][j] = -1\n",
    "print(arr)"
   ]
  }
 ],
 "metadata": {
  "kernelspec": {
   "display_name": "Python 3 (ipykernel)",
   "language": "python",
   "name": "python3"
  },
  "language_info": {
   "codemirror_mode": {
    "name": "ipython",
    "version": 3
   },
   "file_extension": ".py",
   "mimetype": "text/x-python",
   "name": "python",
   "nbconvert_exporter": "python",
   "pygments_lexer": "ipython3",
   "version": "3.12.7"
  }
 },
 "nbformat": 4,
 "nbformat_minor": 5
}
