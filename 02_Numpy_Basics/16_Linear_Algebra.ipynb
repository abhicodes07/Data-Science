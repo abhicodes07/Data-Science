{
 "cells": [
  {
   "cell_type": "markdown",
   "id": "268c5d22-43a0-46d3-8912-e5e15124ca0e",
   "metadata": {},
   "source": [
    "# Linear Algebra\n",
    "Numpy can be used for calculating **matrix multiplication**, **decomposition**, **determinants**, and other square matrix math."
   ]
  },
  {
   "cell_type": "code",
   "execution_count": 1,
   "id": "cf58d8cd-791d-480a-8934-097f71aadb3a",
   "metadata": {},
   "outputs": [],
   "source": [
    "import numpy as np"
   ]
  },
  {
   "cell_type": "markdown",
   "id": "9efe14ad-1b7f-44d2-8ae1-1a5ac2c330f7",
   "metadata": {},
   "source": [
    "## Dot product\n",
    "Multiply two n-dimensional arrays using `arr1.dot(arr2)` function instead of `*` method."
   ]
  },
  {
   "cell_type": "code",
   "execution_count": 6,
   "id": "eb59ad3c-af48-4d9a-ada0-9bbe0189cdaa",
   "metadata": {},
   "outputs": [
    {
     "data": {
      "text/plain": [
       "array([[1, 2, 3],\n",
       "       [4, 5, 6]])"
      ]
     },
     "execution_count": 6,
     "metadata": {},
     "output_type": "execute_result"
    }
   ],
   "source": [
    "x = np.arange(1, 7).reshape(2, 3)\n",
    "x"
   ]
  },
  {
   "cell_type": "code",
   "execution_count": 8,
   "id": "782ccdd7-af25-4316-9a9e-1b3c5af96fbf",
   "metadata": {},
   "outputs": [
    {
     "data": {
      "text/plain": [
       "array([[ 6, 23],\n",
       "       [-1,  7],\n",
       "       [ 8,  9]])"
      ]
     },
     "execution_count": 8,
     "metadata": {},
     "output_type": "execute_result"
    }
   ],
   "source": [
    "y = np.array([[6, 23], [-1, 7], [8, 9]])\n",
    "y"
   ]
  },
  {
   "cell_type": "code",
   "execution_count": 10,
   "id": "439fb283-cc35-4e57-b541-8fdcda1b376f",
   "metadata": {},
   "outputs": [
    {
     "data": {
      "text/plain": [
       "array([[ 28,  64],\n",
       "       [ 67, 181]])"
      ]
     },
     "execution_count": 10,
     "metadata": {},
     "output_type": "execute_result"
    }
   ],
   "source": [
    "# dot product of x and y\n",
    "x.dot(y)"
   ]
  }
 ],
 "metadata": {
  "kernelspec": {
   "display_name": "Python 3 (ipykernel)",
   "language": "python",
   "name": "python3"
  },
  "language_info": {
   "codemirror_mode": {
    "name": "ipython",
    "version": 3
   },
   "file_extension": ".py",
   "mimetype": "text/x-python",
   "name": "python",
   "nbconvert_exporter": "python",
   "pygments_lexer": "ipython3",
   "version": "3.12.7"
  }
 },
 "nbformat": 4,
 "nbformat_minor": 5
}
