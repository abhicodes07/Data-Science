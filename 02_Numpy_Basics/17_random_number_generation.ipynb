{
 "cells": [
  {
   "cell_type": "markdown",
   "id": "ed6d748f-5210-4cb5-8981-451fccb859ce",
   "metadata": {},
   "source": [
    "# Random Number Generation\n",
    "The `numpy.random` module supplements the built-in Python `random` with functions for efficiently generating whole arrays of smaple values from many knds of probability distributions."
   ]
  },
  {
   "cell_type": "code",
   "execution_count": 1,
   "id": "cd485364-6bbe-47a5-93ba-05d6521918f9",
   "metadata": {},
   "outputs": [],
   "source": [
    "import numpy as np\n",
    "from numpy import random\n",
    "from random import normalvariate"
   ]
  },
  {
   "cell_type": "markdown",
   "id": "69a80505-4951-483c-b6fe-a10e94ae8d44",
   "metadata": {},
   "source": [
    "For example: a 4 x 4 array of samples from the standard normal distribution using normal:"
   ]
  },
  {
   "cell_type": "code",
   "execution_count": 2,
   "id": "77a5b1e9-42f8-42ec-80a7-2ddd84c84d33",
   "metadata": {},
   "outputs": [
    {
     "data": {
      "text/plain": [
       "array([[ 0.22761817, -0.17895655, -0.16927739,  1.57124729],\n",
       "       [ 0.92512561,  0.10386159, -0.52637466, -2.09562639],\n",
       "       [-0.60263265, -0.97935122, -0.67976136, -0.36576058],\n",
       "       [ 0.02426845, -1.45327486, -0.51363444,  1.37045247]])"
      ]
     },
     "execution_count": 2,
     "metadata": {},
     "output_type": "execute_result"
    }
   ],
   "source": [
    "sample = random.normal(size=(4, 4))\n",
    "sample"
   ]
  },
  {
   "cell_type": "code",
   "execution_count": 3,
   "id": "334cedd5-51c4-4283-962e-d573f3d63423",
   "metadata": {},
   "outputs": [],
   "source": [
    "N = 1000000"
   ]
  },
  {
   "cell_type": "markdown",
   "id": "56e5aa22-9d99-4974-b094-e0d6f0be7f05",
   "metadata": {},
   "source": [
    "We can calculate the runtime of an numpy statements using `%timeit` magic method:"
   ]
  },
  {
   "cell_type": "code",
   "execution_count": 4,
   "id": "4e8ece89-420e-4624-a561-ee500fe8a1ae",
   "metadata": {},
   "outputs": [
    {
     "name": "stdout",
     "output_type": "stream",
     "text": [
      "910 ms ± 14.2 ms per loop (mean ± std. dev. of 7 runs, 1 loop each)\n"
     ]
    }
   ],
   "source": [
    "%timeit samples = [normalvariate(0, 1) for _ in range(N)]"
   ]
  },
  {
   "cell_type": "code",
   "execution_count": 6,
   "id": "b0b71b76-91d9-4b1e-978b-02d8b1cd4139",
   "metadata": {},
   "outputs": [
    {
     "name": "stdout",
     "output_type": "stream",
     "text": [
      "41.8 ms ± 890 μs per loop (mean ± std. dev. of 7 runs, 10 loops each)\n"
     ]
    }
   ],
   "source": [
    "%timeit random.normal(size=N)"
   ]
  },
  {
   "cell_type": "code",
   "execution_count": 7,
   "id": "fc1af9a2-7b2b-427d-943d-4f3b030a9840",
   "metadata": {},
   "outputs": [
    {
     "data": {
      "text/plain": [
       "array([ 0.15226776, -1.08721151,  1.24373847, ..., -0.25982945,\n",
       "        1.21139827,  0.8948388 ])"
      ]
     },
     "execution_count": 7,
     "metadata": {},
     "output_type": "execute_result"
    }
   ],
   "source": [
    "random.normal(size=N)"
   ]
  }
 ],
 "metadata": {
  "kernelspec": {
   "display_name": "Python 3 (ipykernel)",
   "language": "python",
   "name": "python3"
  },
  "language_info": {
   "codemirror_mode": {
    "name": "ipython",
    "version": 3
   },
   "file_extension": ".py",
   "mimetype": "text/x-python",
   "name": "python",
   "nbconvert_exporter": "python",
   "pygments_lexer": "ipython3",
   "version": "3.12.7"
  }
 },
 "nbformat": 4,
 "nbformat_minor": 5
}
