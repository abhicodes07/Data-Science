{
 "cells": [
  {
   "cell_type": "markdown",
   "id": "ed6d748f-5210-4cb5-8981-451fccb859ce",
   "metadata": {},
   "source": [
    "# Random Number Generation\n",
    "The `numpy.random` module supplements the built-in Python `random` with functions for efficiently generating whole arrays of smaple values from many knds of probability distributions."
   ]
  },
  {
   "cell_type": "code",
   "execution_count": 4,
   "id": "cd485364-6bbe-47a5-93ba-05d6521918f9",
   "metadata": {},
   "outputs": [],
   "source": [
    "import numpy as np\n",
    "from numpy import random\n",
    "from random import normalvariate"
   ]
  },
  {
   "cell_type": "markdown",
   "id": "69a80505-4951-483c-b6fe-a10e94ae8d44",
   "metadata": {},
   "source": [
    "For example: a 4 x 4 array of samples from the standard normal distribution using normal:"
   ]
  },
  {
   "cell_type": "code",
   "execution_count": 9,
   "id": "77a5b1e9-42f8-42ec-80a7-2ddd84c84d33",
   "metadata": {},
   "outputs": [
    {
     "data": {
      "text/plain": [
       "array([[-1.31094049e-02,  1.00619941e-01,  3.52657266e-01,\n",
       "        -9.15038057e-01],\n",
       "       [ 1.23110534e+00,  1.36234166e-01,  8.43846483e-02,\n",
       "        -7.77084856e-01],\n",
       "       [-1.09286635e+00, -1.77568040e-05,  6.14882151e-01,\n",
       "         1.84183770e+00],\n",
       "       [-1.00833833e+00, -3.22776898e-01, -1.47064347e+00,\n",
       "         9.69342551e-01]])"
      ]
     },
     "execution_count": 9,
     "metadata": {},
     "output_type": "execute_result"
    }
   ],
   "source": [
    "sample = random.normal(size=(4, 4))\n",
    "sample"
   ]
  },
  {
   "cell_type": "code",
   "execution_count": 6,
   "id": "334cedd5-51c4-4283-962e-d573f3d63423",
   "metadata": {},
   "outputs": [],
   "source": [
    "N = 1000000"
   ]
  },
  {
   "cell_type": "markdown",
   "id": "56e5aa22-9d99-4974-b094-e0d6f0be7f05",
   "metadata": {},
   "source": [
    "We can calculate the runtime of an numpy statements using `%timeit` magic method:"
   ]
  },
  {
   "cell_type": "code",
   "execution_count": 7,
   "id": "4e8ece89-420e-4624-a561-ee500fe8a1ae",
   "metadata": {},
   "outputs": [
    {
     "name": "stdout",
     "output_type": "stream",
     "text": [
      "994 ms ± 6.86 ms per loop (mean ± std. dev. of 7 runs, 1 loop each)\n"
     ]
    }
   ],
   "source": [
    "%timeit samples = [normalvariate(0, 1) for _ in range(N)]"
   ]
  },
  {
   "cell_type": "code",
   "execution_count": 10,
   "id": "b0b71b76-91d9-4b1e-978b-02d8b1cd4139",
   "metadata": {},
   "outputs": [
    {
     "name": "stdout",
     "output_type": "stream",
     "text": [
      "42.5 ms ± 168 μs per loop (mean ± std. dev. of 7 runs, 10 loops each)\n"
     ]
    }
   ],
   "source": [
    "%timeit random.normal(size=N)"
   ]
  },
  {
   "cell_type": "code",
   "execution_count": 14,
   "id": "fc1af9a2-7b2b-427d-943d-4f3b030a9840",
   "metadata": {},
   "outputs": [
    {
     "data": {
      "text/plain": [
       "array([-0.18640601,  0.57246454, -0.27160643, ...,  1.81221115,\n",
       "       -0.10090688, -0.0499642 ])"
      ]
     },
     "execution_count": 14,
     "metadata": {},
     "output_type": "execute_result"
    }
   ],
   "source": [
    "random.normal(size=N)"
   ]
  }
 ],
 "metadata": {
  "kernelspec": {
   "display_name": "Python 3 (ipykernel)",
   "language": "python",
   "name": "python3"
  },
  "language_info": {
   "codemirror_mode": {
    "name": "ipython",
    "version": 3
   },
   "file_extension": ".py",
   "mimetype": "text/x-python",
   "name": "python",
   "nbconvert_exporter": "python",
   "pygments_lexer": "ipython3",
   "version": "3.12.7"
  }
 },
 "nbformat": 4,
 "nbformat_minor": 5
}
