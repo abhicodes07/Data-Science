{
 "cells": [
  {
   "cell_type": "markdown",
   "id": "37aade1f-c1cc-48e7-811a-e1b9ed4f4f21",
   "metadata": {},
   "source": [
    "## Universal Functions: Fast Element-wise Array Functions\n",
    "A **ufunc** (universal functions), is a function that performs element-wise operations on data in ndarray."
   ]
  },
  {
   "cell_type": "code",
   "execution_count": 1,
   "id": "65b3ea59-b2f9-49b2-a585-61a1dab7c863",
   "metadata": {},
   "outputs": [],
   "source": [
    "import numpy as np\n",
    "from numpy import random"
   ]
  },
  {
   "cell_type": "code",
   "execution_count": 2,
   "id": "b747ae27-fb53-48cc-a958-6a733cd31302",
   "metadata": {},
   "outputs": [],
   "source": [
    "arr = np.arange(10)"
   ]
  },
  {
   "cell_type": "code",
   "execution_count": 3,
   "id": "b61eeecb-bbe5-4fb5-993d-7bb3122cddbb",
   "metadata": {},
   "outputs": [
    {
     "data": {
      "text/plain": [
       "array([0, 1, 2, 3, 4, 5, 6, 7, 8, 9])"
      ]
     },
     "execution_count": 3,
     "metadata": {},
     "output_type": "execute_result"
    }
   ],
   "source": [
    "arr"
   ]
  },
  {
   "cell_type": "markdown",
   "id": "3f96d215-a0bb-4791-b587-b4aef7cd8fec",
   "metadata": {},
   "source": [
    "### Unary Functions\n",
    "abs, fabs, sqrt, square, exp, log, modf etc."
   ]
  },
  {
   "cell_type": "markdown",
   "id": "d3418c42-553b-44cc-aa95-a7c4c5d2044d",
   "metadata": {},
   "source": [
    "**1. sqrt:** Gives the square root of every element in an array"
   ]
  },
  {
   "cell_type": "code",
   "execution_count": 4,
   "id": "c6a725dc-3457-43cd-bd38-bac5475d79ad",
   "metadata": {},
   "outputs": [
    {
     "data": {
      "text/plain": [
       "array([0.        , 1.        , 1.41421356, 1.73205081, 2.        ,\n",
       "       2.23606798, 2.44948974, 2.64575131, 2.82842712, 3.        ])"
      ]
     },
     "execution_count": 4,
     "metadata": {},
     "output_type": "execute_result"
    }
   ],
   "source": [
    "np.sqrt(arr)"
   ]
  },
  {
   "cell_type": "code",
   "execution_count": 5,
   "id": "900516a7-4b45-4466-a23b-92704012afca",
   "metadata": {},
   "outputs": [
    {
     "data": {
      "text/plain": [
       "array([1.00000000e+00, 2.71828183e+00, 7.38905610e+00, 2.00855369e+01,\n",
       "       5.45981500e+01, 1.48413159e+02, 4.03428793e+02, 1.09663316e+03,\n",
       "       2.98095799e+03, 8.10308393e+03])"
      ]
     },
     "execution_count": 5,
     "metadata": {},
     "output_type": "execute_result"
    }
   ],
   "source": [
    "np.exp(arr)"
   ]
  },
  {
   "cell_type": "markdown",
   "id": "2f116c73-a6ed-42e4-9a41-d43bcd10c869",
   "metadata": {},
   "source": [
    "**2. square:** returns square of every element number in a array"
   ]
  },
  {
   "cell_type": "code",
   "execution_count": 6,
   "id": "8d09106c-47fd-431b-a612-6177316bcbf2",
   "metadata": {},
   "outputs": [
    {
     "data": {
      "text/plain": [
       "array([ 0,  1,  4,  9, 16, 25, 36, 49, 64, 81])"
      ]
     },
     "execution_count": 6,
     "metadata": {},
     "output_type": "execute_result"
    }
   ],
   "source": [
    "np.square(arr)"
   ]
  },
  {
   "cell_type": "markdown",
   "id": "c684d4b7-039c-480a-8b36-39ef081bc237",
   "metadata": {},
   "source": [
    "### Binary Functions \n",
    "add, subtract, multiply, divide, floor_divide, power, maximum, minimum, greater, greater_equal, less, less_equal, equal, not_equal, logical_and, logical_or, logical_xor etc. "
   ]
  },
  {
   "cell_type": "code",
   "execution_count": 7,
   "id": "00526edb-9e47-4a40-96b6-b8da90786b51",
   "metadata": {},
   "outputs": [],
   "source": [
    "x = np.arange(10)\n",
    "y = random.randn(10)"
   ]
  },
  {
   "cell_type": "code",
   "execution_count": 8,
   "id": "6a37de10-ead6-46e3-bc00-84d3b1336c1d",
   "metadata": {},
   "outputs": [
    {
     "data": {
      "text/plain": [
       "array([0, 1, 2, 3, 4, 5, 6, 7, 8, 9])"
      ]
     },
     "execution_count": 8,
     "metadata": {},
     "output_type": "execute_result"
    }
   ],
   "source": [
    "x"
   ]
  },
  {
   "cell_type": "code",
   "execution_count": 9,
   "id": "7a0c8acb-d1d3-4a21-9466-bfb4a1cb4407",
   "metadata": {},
   "outputs": [
    {
     "data": {
      "text/plain": [
       "array([-0.43936479,  0.0112331 , -1.09471677, -2.08693864, -1.4785967 ,\n",
       "        0.44136688,  0.14234578,  0.18654122,  0.76943712,  1.04004914])"
      ]
     },
     "execution_count": 9,
     "metadata": {},
     "output_type": "execute_result"
    }
   ],
   "source": [
    "y"
   ]
  },
  {
   "cell_type": "markdown",
   "id": "0a2b7544-3594-4de6-97e0-98dc6cdf7c44",
   "metadata": {},
   "source": [
    "**1. maximum(array1, array2)**: Returns element-wise maximum from both arrays"
   ]
  },
  {
   "cell_type": "code",
   "execution_count": 10,
   "id": "2ecc55c9-2298-4085-a976-2ff0f70118d4",
   "metadata": {},
   "outputs": [
    {
     "data": {
      "text/plain": [
       "array([0., 1., 2., 3., 4., 5., 6., 7., 8., 9.])"
      ]
     },
     "execution_count": 10,
     "metadata": {},
     "output_type": "execute_result"
    }
   ],
   "source": [
    "np.maximum(x, y) # element-wise maximum"
   ]
  }
 ],
 "metadata": {
  "kernelspec": {
   "display_name": "Python 3 (ipykernel)",
   "language": "python",
   "name": "python3"
  },
  "language_info": {
   "codemirror_mode": {
    "name": "ipython",
    "version": 3
   },
   "file_extension": ".py",
   "mimetype": "text/x-python",
   "name": "python",
   "nbconvert_exporter": "python",
   "pygments_lexer": "ipython3",
   "version": "3.12.7"
  }
 },
 "nbformat": 4,
 "nbformat_minor": 5
}
