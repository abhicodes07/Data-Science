{
 "cells": [
  {
   "cell_type": "markdown",
   "id": "0d443605-06a5-4d94-b5de-9305007b5355",
   "metadata": {},
   "source": [
    "## Operations between `ndarrays` and Scalars\n",
    "Arrays enable you to express batch operations on data without writing any for loops, this is called as *vectorization*"
   ]
  },
  {
   "cell_type": "markdown",
   "id": "14782da3-feed-4e1f-ae6a-cb30d394193c",
   "metadata": {},
   "source": [
    "#### Airthmatic Operations on `ndarrays`"
   ]
  },
  {
   "cell_type": "code",
   "execution_count": 1,
   "id": "6da5f955-0161-400b-b000-1320c7bb2e92",
   "metadata": {},
   "outputs": [],
   "source": [
    "import numpy as np"
   ]
  },
  {
   "cell_type": "code",
   "execution_count": 2,
   "id": "6854e0fb-e73f-4318-947e-c8d99b3dedc4",
   "metadata": {},
   "outputs": [],
   "source": [
    "data = [[1, 2, 3, 4, 5],\n",
    "        [6, 7, 8, 9, 10]]"
   ]
  },
  {
   "cell_type": "code",
   "execution_count": 3,
   "id": "3b7276f3-ad97-4fd0-ad54-44031a4785a9",
   "metadata": {},
   "outputs": [],
   "source": [
    "arr1 = np.array(data)"
   ]
  },
  {
   "cell_type": "code",
   "execution_count": 4,
   "id": "3b888ef8-9c25-4529-8e33-6a36aab12b29",
   "metadata": {},
   "outputs": [
    {
     "data": {
      "text/plain": [
       "array([[ 1,  2,  3,  4,  5],\n",
       "       [ 6,  7,  8,  9, 10]])"
      ]
     },
     "execution_count": 4,
     "metadata": {},
     "output_type": "execute_result"
    }
   ],
   "source": [
    "arr1"
   ]
  },
  {
   "cell_type": "code",
   "execution_count": 5,
   "id": "9ec7e05a-6121-470d-b7ff-475d08912d97",
   "metadata": {},
   "outputs": [],
   "source": [
    "arr2 = arr1 * arr1"
   ]
  },
  {
   "cell_type": "code",
   "execution_count": 6,
   "id": "12e4ce20-cee7-4026-a42a-2403147c226d",
   "metadata": {},
   "outputs": [
    {
     "data": {
      "text/plain": [
       "array([[  1,   4,   9,  16,  25],\n",
       "       [ 36,  49,  64,  81, 100]])"
      ]
     },
     "execution_count": 6,
     "metadata": {},
     "output_type": "execute_result"
    }
   ],
   "source": [
    "arr2"
   ]
  },
  {
   "cell_type": "code",
   "execution_count": 7,
   "id": "9e195693-390b-4701-a5dc-8758a1c5ed55",
   "metadata": {},
   "outputs": [],
   "source": [
    "arr3 = arr1 + arr1"
   ]
  },
  {
   "cell_type": "code",
   "execution_count": 8,
   "id": "12e964f2-b33a-490c-9261-b431a20106e5",
   "metadata": {},
   "outputs": [
    {
     "data": {
      "text/plain": [
       "array([[ 2,  4,  6,  8, 10],\n",
       "       [12, 14, 16, 18, 20]])"
      ]
     },
     "execution_count": 8,
     "metadata": {},
     "output_type": "execute_result"
    }
   ],
   "source": [
    "arr3"
   ]
  },
  {
   "cell_type": "code",
   "execution_count": null,
   "id": "474d618b-6b50-44bb-bc0c-fb43144d2acd",
   "metadata": {},
   "outputs": [],
   "source": []
  }
 ],
 "metadata": {
  "kernelspec": {
   "display_name": "Python 3 (ipykernel)",
   "language": "python",
   "name": "python3"
  },
  "language_info": {
   "codemirror_mode": {
    "name": "ipython",
    "version": 3
   },
   "file_extension": ".py",
   "mimetype": "text/x-python",
   "name": "python",
   "nbconvert_exporter": "python",
   "pygments_lexer": "ipython3",
   "version": "3.11.10"
  },
  "widgets": {
   "application/vnd.jupyter.widget-state+json": {
    "state": {},
    "version_major": 2,
    "version_minor": 0
   }
  }
 },
 "nbformat": 4,
 "nbformat_minor": 5
}
