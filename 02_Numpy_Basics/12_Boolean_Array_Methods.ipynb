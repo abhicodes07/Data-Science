{
 "cells": [
  {
   "cell_type": "markdown",
   "id": "8aeefc39-f566-4168-ae48-c82759f323a5",
   "metadata": {},
   "source": [
    "# Methods for Boolean Arrays\n",
    "Boolean values constitute of 1 (True) and 0 (False).\n",
    "For Example: "
   ]
  },
  {
   "cell_type": "code",
   "execution_count": 1,
   "id": "10ae00d1-b8db-4462-8cf6-d558b6a87a17",
   "metadata": {},
   "outputs": [],
   "source": [
    "import numpy as np"
   ]
  },
  {
   "cell_type": "code",
   "execution_count": 4,
   "id": "c36f0471-6f78-4f52-928d-384de44a1a1e",
   "metadata": {},
   "outputs": [
    {
     "data": {
      "text/plain": [
       "array([[-100,  -99,  -98,  -97,  -96,  -95,  -94,  -93,  -92,  -91],\n",
       "       [ -90,  -89,  -88,  -87,  -86,  -85,  -84,  -83,  -82,  -81],\n",
       "       [ -80,  -79,  -78,  -77,  -76,  -75,  -74,  -73,  -72,  -71],\n",
       "       [ -70,  -69,  -68,  -67,  -66,  -65,  -64,  -63,  -62,  -61],\n",
       "       [ -60,  -59,  -58,  -57,  -56,  -55,  -54,  -53,  -52,  -51],\n",
       "       [ -50,  -49,  -48,  -47,  -46,  -45,  -44,  -43,  -42,  -41],\n",
       "       [ -40,  -39,  -38,  -37,  -36,  -35,  -34,  -33,  -32,  -31],\n",
       "       [ -30,  -29,  -28,  -27,  -26,  -25,  -24,  -23,  -22,  -21],\n",
       "       [ -20,  -19,  -18,  -17,  -16,  -15,  -14,  -13,  -12,  -11],\n",
       "       [ -10,   -9,   -8,   -7,   -6,   -5,   -4,   -3,   -2,   -1],\n",
       "       [   0,    1,    2,    3,    4,    5,    6,    7,    8,    9],\n",
       "       [  10,   11,   12,   13,   14,   15,   16,   17,   18,   19],\n",
       "       [  20,   21,   22,   23,   24,   25,   26,   27,   28,   29],\n",
       "       [  30,   31,   32,   33,   34,   35,   36,   37,   38,   39],\n",
       "       [  40,   41,   42,   43,   44,   45,   46,   47,   48,   49],\n",
       "       [  50,   51,   52,   53,   54,   55,   56,   57,   58,   59],\n",
       "       [  60,   61,   62,   63,   64,   65,   66,   67,   68,   69],\n",
       "       [  70,   71,   72,   73,   74,   75,   76,   77,   78,   79],\n",
       "       [  80,   81,   82,   83,   84,   85,   86,   87,   88,   89],\n",
       "       [  90,   91,   92,   93,   94,   95,   96,   97,   98,   99]])"
      ]
     },
     "execution_count": 4,
     "metadata": {},
     "output_type": "execute_result"
    }
   ],
   "source": [
    "arr = np.arange(-100, 100).reshape(20, 10)\n",
    "arr"
   ]
  },
  {
   "cell_type": "code",
   "execution_count": 6,
   "id": "76ba7282-a6ed-46da-bdc9-319a31852219",
   "metadata": {},
   "outputs": [
    {
     "data": {
      "text/plain": [
       "np.int64(99)"
      ]
     },
     "execution_count": 6,
     "metadata": {},
     "output_type": "execute_result"
    }
   ],
   "source": [
    "(arr>0).sum()"
   ]
  },
  {
   "cell_type": "code",
   "execution_count": 7,
   "id": "f80f6131-5de4-44ed-b868-60af38bef326",
   "metadata": {},
   "outputs": [],
   "source": [
    "bools = np.array([False, False, True, False])"
   ]
  },
  {
   "cell_type": "markdown",
   "id": "d117489a-d56b-4e93-9436-bc6ae04adee8",
   "metadata": {},
   "source": [
    "#### 1. any()\n",
    "tests whether one or more values in an array is True."
   ]
  },
  {
   "cell_type": "code",
   "execution_count": 10,
   "id": "3c2541f8-f2f8-4e7b-b18e-793f5c666341",
   "metadata": {},
   "outputs": [
    {
     "data": {
      "text/plain": [
       "np.True_"
      ]
     },
     "execution_count": 10,
     "metadata": {},
     "output_type": "execute_result"
    }
   ],
   "source": [
    "bools.any()"
   ]
  },
  {
   "cell_type": "markdown",
   "id": "b2f51056-f651-4ccb-8650-d687903b84cb",
   "metadata": {},
   "source": [
    "#### 2. all()\n",
    "checks if all every value is True."
   ]
  },
  {
   "cell_type": "code",
   "execution_count": 11,
   "id": "1102b4f0-ca9e-433a-bccf-64d06b1ff53e",
   "metadata": {},
   "outputs": [
    {
     "data": {
      "text/plain": [
       "np.False_"
      ]
     },
     "execution_count": 11,
     "metadata": {},
     "output_type": "execute_result"
    }
   ],
   "source": [
    "bools.all()"
   ]
  }
 ],
 "metadata": {
  "kernelspec": {
   "display_name": "Python 3 (ipykernel)",
   "language": "python",
   "name": "python3"
  },
  "language_info": {
   "codemirror_mode": {
    "name": "ipython",
    "version": 3
   },
   "file_extension": ".py",
   "mimetype": "text/x-python",
   "name": "python",
   "nbconvert_exporter": "python",
   "pygments_lexer": "ipython3",
   "version": "3.12.7"
  }
 },
 "nbformat": 4,
 "nbformat_minor": 5
}
