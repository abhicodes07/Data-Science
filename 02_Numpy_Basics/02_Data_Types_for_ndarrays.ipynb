{
 "cells": [
  {
   "cell_type": "markdown",
   "id": "a8d745ad-11d8-4d7a-b3da-11c9ac6c72bb",
   "metadata": {},
   "source": [
    "## Data Types for **ndarrays**"
   ]
  },
  {
   "cell_type": "markdown",
   "id": "5b039b30-3422-490a-a555-13a8b8120d4a",
   "metadata": {},
   "source": [
    "The **data type** or `dtype` is a special object containing the information the **ndarray** needs to interpret a chunk of memory as a particular type of data."
   ]
  },
  {
   "cell_type": "code",
   "execution_count": 1,
   "id": "dcc72522-c0d7-4061-b087-1f1693b2bbb9",
   "metadata": {},
   "outputs": [],
   "source": [
    "import numpy as np"
   ]
  },
  {
   "cell_type": "code",
   "execution_count": 2,
   "id": "cf32d6b4-45ab-4648-87c2-05becbbc608d",
   "metadata": {},
   "outputs": [
    {
     "data": {
      "text/plain": [
       "array([1, 2, 3, 4, 5], dtype=int32)"
      ]
     },
     "execution_count": 2,
     "metadata": {},
     "output_type": "execute_result"
    }
   ],
   "source": [
    "arr1 = np.array([1, 2, 3, 4, 5], dtype=np.int32)\n",
    "arr1"
   ]
  },
  {
   "cell_type": "code",
   "execution_count": 3,
   "id": "3e61d8d0-df6b-40d9-9c8d-5db6662bbe03",
   "metadata": {},
   "outputs": [
    {
     "data": {
      "text/plain": [
       "array([ 6.,  7.,  8.,  9., 10.])"
      ]
     },
     "execution_count": 3,
     "metadata": {},
     "output_type": "execute_result"
    }
   ],
   "source": [
    "arr2 = np.array([6, 7, 8, 9, 10], dtype=np.float64)\n",
    "arr2"
   ]
  },
  {
   "cell_type": "code",
   "execution_count": 4,
   "id": "34d06173-033d-4c8b-9c2a-42cdc9f503c6",
   "metadata": {},
   "outputs": [
    {
     "data": {
      "text/plain": [
       "dtype('int32')"
      ]
     },
     "execution_count": 4,
     "metadata": {},
     "output_type": "execute_result"
    }
   ],
   "source": [
    "arr1.dtype"
   ]
  },
  {
   "cell_type": "code",
   "execution_count": 5,
   "id": "d71b1b7f-7229-44f1-afc3-62e62bf859b1",
   "metadata": {},
   "outputs": [
    {
     "data": {
      "text/plain": [
       "dtype('float64')"
      ]
     },
     "execution_count": 5,
     "metadata": {},
     "output_type": "execute_result"
    }
   ],
   "source": [
    "arr2.dtype"
   ]
  },
  {
   "cell_type": "markdown",
   "id": "2994e3e0-baf0-444e-a830-c7863c7fa5a9",
   "metadata": {},
   "source": [
    "#### Type-Casting"
   ]
  },
  {
   "cell_type": "markdown",
   "id": "04cf0be5-109c-4a30-8adc-f860bddb237c",
   "metadata": {},
   "source": [
    "We can convert or type cast one dtype to another dtype of **ndarray** using `astype` method."
   ]
  },
  {
   "cell_type": "code",
   "execution_count": 6,
   "id": "8911d90e-09b5-4d24-b782-d88f78002f1c",
   "metadata": {},
   "outputs": [],
   "source": [
    "arr3 = np.array([1, 2, 3, 4, 5], dtype=np.int64)"
   ]
  },
  {
   "cell_type": "code",
   "execution_count": 7,
   "id": "721c1094-86f0-4f38-952d-edf1610c16b2",
   "metadata": {},
   "outputs": [
    {
     "data": {
      "text/plain": [
       "array([1, 2, 3, 4, 5])"
      ]
     },
     "execution_count": 7,
     "metadata": {},
     "output_type": "execute_result"
    }
   ],
   "source": [
    "arr3"
   ]
  },
  {
   "cell_type": "code",
   "execution_count": 8,
   "id": "14b4977c-d6a4-47fd-81a9-767ec095996e",
   "metadata": {},
   "outputs": [
    {
     "data": {
      "text/plain": [
       "dtype('int64')"
      ]
     },
     "execution_count": 8,
     "metadata": {},
     "output_type": "execute_result"
    }
   ],
   "source": [
    "arr3.dtype"
   ]
  },
  {
   "cell_type": "code",
   "execution_count": 9,
   "id": "cc79d2ce-bab0-4b7c-a3bf-9e3b115cbfd5",
   "metadata": {},
   "outputs": [
    {
     "data": {
      "text/plain": [
       "array([1., 2., 3., 4., 5.])"
      ]
     },
     "execution_count": 9,
     "metadata": {},
     "output_type": "execute_result"
    }
   ],
   "source": [
    "float_arr3 = arr3.astype(dtype=np.float64)\n",
    "float_arr3"
   ]
  },
  {
   "cell_type": "code",
   "execution_count": 10,
   "id": "f32f86e7-dc35-4dfe-a50a-0b0cf930e76a",
   "metadata": {},
   "outputs": [
    {
     "data": {
      "text/plain": [
       "dtype('float64')"
      ]
     },
     "execution_count": 10,
     "metadata": {},
     "output_type": "execute_result"
    }
   ],
   "source": [
    "float_arr3.dtype"
   ]
  },
  {
   "cell_type": "code",
   "execution_count": 11,
   "id": "16a369cf-8e3d-4c96-ac35-508cd9678769",
   "metadata": {},
   "outputs": [],
   "source": [
    "data1 = [1.23, 3.43, 23.4, 54.89] # float array\n",
    "data2 = ['1', '2', '3', '4', '5'] # string array"
   ]
  },
  {
   "cell_type": "code",
   "execution_count": 12,
   "id": "2240a2de-5592-47d3-8f3d-3104183f367b",
   "metadata": {},
   "outputs": [],
   "source": [
    "arr4 = np.array(data1)\n",
    "arr5 = np.array(data2)"
   ]
  },
  {
   "cell_type": "code",
   "execution_count": 13,
   "id": "44824fc3-559b-41ed-a193-d662b62d4cdd",
   "metadata": {},
   "outputs": [
    {
     "data": {
      "text/plain": [
       "array([ 1.23,  3.43, 23.4 , 54.89])"
      ]
     },
     "execution_count": 13,
     "metadata": {},
     "output_type": "execute_result"
    }
   ],
   "source": [
    "arr4"
   ]
  },
  {
   "cell_type": "code",
   "execution_count": 14,
   "id": "5063471f-0486-46d5-8b71-55678246bb22",
   "metadata": {},
   "outputs": [
    {
     "data": {
      "text/plain": [
       "array(['1', '2', '3', '4', '5'], dtype='<U1')"
      ]
     },
     "execution_count": 14,
     "metadata": {},
     "output_type": "execute_result"
    }
   ],
   "source": [
    "arr5"
   ]
  },
  {
   "cell_type": "markdown",
   "id": "888907b3-02e7-4f4a-a5a2-b7e81c399c69",
   "metadata": {},
   "source": [
    "#### Converting `float` to `int`\n",
    "When converting ndarry with floating point  numbers to `int`, the floating digits will be truncated."
   ]
  },
  {
   "cell_type": "code",
   "execution_count": 15,
   "id": "da10a35f-004f-4735-93b3-10e14eab3a1c",
   "metadata": {},
   "outputs": [],
   "source": [
    "int_arr4 = arr4.astype(dtype=np.int64) # truncates floating point digits"
   ]
  },
  {
   "cell_type": "code",
   "execution_count": 16,
   "id": "f4483cc1-be09-4eb9-bb26-32cfb05261a8",
   "metadata": {},
   "outputs": [
    {
     "data": {
      "text/plain": [
       "array([ 1,  3, 23, 54])"
      ]
     },
     "execution_count": 16,
     "metadata": {},
     "output_type": "execute_result"
    }
   ],
   "source": [
    "int_arr4"
   ]
  },
  {
   "cell_type": "code",
   "execution_count": 17,
   "id": "af27dd1a-dd55-4362-864d-5114c52f15a4",
   "metadata": {},
   "outputs": [
    {
     "data": {
      "text/plain": [
       "dtype('int64')"
      ]
     },
     "execution_count": 17,
     "metadata": {},
     "output_type": "execute_result"
    }
   ],
   "source": [
    "int_arr4.dtype"
   ]
  },
  {
   "cell_type": "markdown",
   "id": "b74e5954-6eca-4eba-84d1-be0a75ccd414",
   "metadata": {},
   "source": [
    "#### Convert `string` to `number`"
   ]
  },
  {
   "cell_type": "code",
   "execution_count": 18,
   "id": "0280eb48-378b-441f-8e7b-871655267cde",
   "metadata": {},
   "outputs": [],
   "source": [
    "int_arr5 = arr5.astype(dtype=np.int64)"
   ]
  },
  {
   "cell_type": "code",
   "execution_count": 19,
   "id": "43241b99-b7f2-4b51-91ee-c14563f13882",
   "metadata": {},
   "outputs": [
    {
     "data": {
      "text/plain": [
       "array([1, 2, 3, 4, 5])"
      ]
     },
     "execution_count": 19,
     "metadata": {},
     "output_type": "execute_result"
    }
   ],
   "source": [
    "int_arr5"
   ]
  }
 ],
 "metadata": {
  "kernelspec": {
   "display_name": "Python 3 (ipykernel)",
   "language": "python",
   "name": "python3"
  },
  "language_info": {
   "codemirror_mode": {
    "name": "ipython",
    "version": 3
   },
   "file_extension": ".py",
   "mimetype": "text/x-python",
   "name": "python",
   "nbconvert_exporter": "python",
   "pygments_lexer": "ipython3",
   "version": "3.11.10"
  },
  "widgets": {
   "application/vnd.jupyter.widget-state+json": {
    "state": {},
    "version_major": 2,
    "version_minor": 0
   }
  }
 },
 "nbformat": 4,
 "nbformat_minor": 5
}
