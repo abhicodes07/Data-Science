{
 "cells": [
  {
   "cell_type": "markdown",
   "id": "192be99b-36af-4ea9-96b8-92a70480fca3",
   "metadata": {},
   "source": [
    "## Boolean Indexing\n",
    "Boolean indexing allows you to filter and manipulate arrays using boolean conditions. Essentially, you create a boolean array (an array of `True` and `False` values) that corresponds to the elements of the original array, and then use this array to select or modify elements based on a condition."
   ]
  },
  {
   "cell_type": "code",
   "execution_count": 1,
   "id": "b4843520-1d0b-4aca-af79-21360bf254bd",
   "metadata": {},
   "outputs": [],
   "source": [
    "import numpy as np\n",
    "from numpy import random"
   ]
  },
  {
   "cell_type": "code",
   "execution_count": 2,
   "id": "02e77f79-4fcb-4452-9b45-7f6a70cade67",
   "metadata": {},
   "outputs": [],
   "source": [
    "names = np.array(['Bob', 'Joe', 'Will', 'Bob', 'Will', 'Joe', 'Joe'])"
   ]
  },
  {
   "cell_type": "markdown",
   "id": "ff0c9a94-16d4-4514-a255-560eac7e7e13",
   "metadata": {},
   "source": [
    "We can use `randn` function in **numpy.random** to generate some random distributed data:"
   ]
  },
  {
   "cell_type": "code",
   "execution_count": 3,
   "id": "32c660d9-f433-450b-a0cd-6c92b247b816",
   "metadata": {},
   "outputs": [],
   "source": [
    "data = np.random.randn(7, 4)"
   ]
  },
  {
   "cell_type": "code",
   "execution_count": 4,
   "id": "a94b4899-23a9-463e-9154-2fa849f9258f",
   "metadata": {},
   "outputs": [
    {
     "data": {
      "text/plain": [
       "array(['Bob', 'Joe', 'Will', 'Bob', 'Will', 'Joe', 'Joe'], dtype='<U4')"
      ]
     },
     "execution_count": 4,
     "metadata": {},
     "output_type": "execute_result"
    }
   ],
   "source": [
    "names"
   ]
  },
  {
   "cell_type": "code",
   "execution_count": 5,
   "id": "7de69331-5f69-43dc-b7a0-fe99a66e1454",
   "metadata": {},
   "outputs": [
    {
     "data": {
      "text/plain": [
       "array([[ 0.184254  ,  1.60475589, -1.12338602,  0.40250291],\n",
       "       [-1.80059066, -1.46157755,  0.07471401,  1.06741673],\n",
       "       [ 0.2627655 , -0.58555423, -0.14485684, -0.55219194],\n",
       "       [-0.55100244,  1.52174263, -0.05710157, -0.85654068],\n",
       "       [ 0.78514061, -0.60089945,  0.51590075, -0.75427714],\n",
       "       [-2.81015339,  0.94796915,  0.13811275, -0.09761996],\n",
       "       [ 0.49256662, -0.11772679, -1.20926132,  0.88137844]])"
      ]
     },
     "execution_count": 5,
     "metadata": {},
     "output_type": "execute_result"
    }
   ],
   "source": [
    "data"
   ]
  },
  {
   "cell_type": "markdown",
   "id": "390dcab0-8bce-43db-834c-abb5fcbf6817",
   "metadata": {},
   "source": [
    "Below code returns a boolean array with True on positions where `name = Bob` and false when `name != Bob`."
   ]
  },
  {
   "cell_type": "code",
   "execution_count": 6,
   "id": "199155ab-0036-4b0b-a9ae-08315ce89437",
   "metadata": {},
   "outputs": [
    {
     "data": {
      "text/plain": [
       "array([ True, False, False,  True, False, False, False])"
      ]
     },
     "execution_count": 6,
     "metadata": {},
     "output_type": "execute_result"
    }
   ],
   "source": [
    "names == \"Bob\" "
   ]
  },
  {
   "cell_type": "markdown",
   "id": "24d21901-889b-4fbd-a469-72eb8c8066f8",
   "metadata": {},
   "source": [
    "This boolean array can be passed when indexing the `data` array."
   ]
  },
  {
   "cell_type": "code",
   "execution_count": 7,
   "id": "c7d697e7-0cd3-47a9-823e-9d38bab439e1",
   "metadata": {},
   "outputs": [
    {
     "data": {
      "text/plain": [
       "array([[ 0.184254  ,  1.60475589, -1.12338602,  0.40250291],\n",
       "       [-0.55100244,  1.52174263, -0.05710157, -0.85654068]])"
      ]
     },
     "execution_count": 7,
     "metadata": {},
     "output_type": "execute_result"
    }
   ],
   "source": [
    "data[names == 'Bob']"
   ]
  },
  {
   "cell_type": "markdown",
   "id": "86384144-c921-4021-92bc-f132f7add8b1",
   "metadata": {},
   "source": [
    "#### Case 1: \n",
    "We can even mix and match boolean arrays with slices or integers:"
   ]
  },
  {
   "cell_type": "code",
   "execution_count": 8,
   "id": "bbb7af59-b4bc-4e2c-a2a0-35886fc42e1d",
   "metadata": {},
   "outputs": [
    {
     "data": {
      "text/plain": [
       "array([[-1.12338602,  0.40250291],\n",
       "       [-0.05710157, -0.85654068]])"
      ]
     },
     "execution_count": 8,
     "metadata": {},
     "output_type": "execute_result"
    }
   ],
   "source": [
    "data[names == 'Bob', 2:]"
   ]
  },
  {
   "cell_type": "markdown",
   "id": "e3806d2f-02e2-4073-9574-915482356642",
   "metadata": {},
   "source": [
    "Above statement returns an array containing the subarrays from `data` based on indexing using `names` array.\n",
    "since `names` array contains 7 elements, it first selects all the  elements of the `data` array and checks the condition `names == 'Bob'` if **True** then, it selects the elements from `data` corresponding to **True** value. \n",
    "Secondly, it selects the particular elements from the resulting array using `2:`."
   ]
  },
  {
   "cell_type": "markdown",
   "id": "90a29267-d387-4e10-bb71-5332e995f4cd",
   "metadata": {},
   "source": [
    "#### Case 2: \n",
    "Select everything but 'Bob' (a certain name) using `!=` or negate the condition using `~`:"
   ]
  },
  {
   "cell_type": "code",
   "execution_count": 9,
   "id": "99c65bb3-255d-4de0-b688-d812f1b1d8c2",
   "metadata": {},
   "outputs": [
    {
     "data": {
      "text/plain": [
       "array([False,  True,  True, False,  True,  True,  True])"
      ]
     },
     "execution_count": 9,
     "metadata": {},
     "output_type": "execute_result"
    }
   ],
   "source": [
    "names != 'Bob'"
   ]
  },
  {
   "cell_type": "code",
   "execution_count": 10,
   "id": "9b54c348-d101-43ed-bb3e-611025e370ee",
   "metadata": {},
   "outputs": [
    {
     "data": {
      "text/plain": [
       "array([[-1.80059066, -1.46157755,  0.07471401,  1.06741673],\n",
       "       [ 0.2627655 , -0.58555423, -0.14485684, -0.55219194],\n",
       "       [ 0.78514061, -0.60089945,  0.51590075, -0.75427714],\n",
       "       [-2.81015339,  0.94796915,  0.13811275, -0.09761996],\n",
       "       [ 0.49256662, -0.11772679, -1.20926132,  0.88137844]])"
      ]
     },
     "execution_count": 10,
     "metadata": {},
     "output_type": "execute_result"
    }
   ],
   "source": [
    "data[~(names == 'Bob')] "
   ]
  },
  {
   "cell_type": "markdown",
   "id": "2aad116e-8e7e-4db3-b7c4-d28fcfd88019",
   "metadata": {},
   "source": [
    "Above statement returns the elements from the `data` array corresponding to the value of given condtion `~[names == 'Bob']` i.e., False values"
   ]
  },
  {
   "cell_type": "markdown",
   "id": "9c4513dd-1aec-4aee-b2bd-0b4236829405",
   "metadata": {},
   "source": [
    "#### Case 3: \n",
    "Select multiple names to combne multiple boolean condition arithmatic operators `&`(and) and `|`(or)."
   ]
  },
  {
   "cell_type": "code",
   "execution_count": 11,
   "id": "f8835562-d0df-424c-acd9-66b5e28f683c",
   "metadata": {},
   "outputs": [],
   "source": [
    "mask = (names == 'Bob') | (names == 'Will')"
   ]
  },
  {
   "cell_type": "markdown",
   "id": "f4ca90a9-0355-45d1-8972-36d268cb9c66",
   "metadata": {},
   "source": [
    "mask"
   ]
  },
  {
   "cell_type": "code",
   "execution_count": 12,
   "id": "24bfead4-dfb6-4dfe-b9be-0a750f2e5e45",
   "metadata": {},
   "outputs": [
    {
     "data": {
      "text/plain": [
       "array([[ 0.184254  ,  1.60475589, -1.12338602,  0.40250291],\n",
       "       [ 0.2627655 , -0.58555423, -0.14485684, -0.55219194],\n",
       "       [-0.55100244,  1.52174263, -0.05710157, -0.85654068],\n",
       "       [ 0.78514061, -0.60089945,  0.51590075, -0.75427714]])"
      ]
     },
     "execution_count": 12,
     "metadata": {},
     "output_type": "execute_result"
    }
   ],
   "source": [
    "data[mask]"
   ]
  },
  {
   "cell_type": "markdown",
   "id": "8f298fdb-4f6b-4da3-b60c-ad1c2834e09b",
   "metadata": {},
   "source": [
    "#### Case 5:\n",
    "Set values with boolean arrays:"
   ]
  },
  {
   "cell_type": "code",
   "execution_count": 13,
   "id": "4a9a29fa-e75c-4e9c-9b3c-df50efb4d24e",
   "metadata": {},
   "outputs": [],
   "source": [
    "data[data < 0] = 0"
   ]
  },
  {
   "cell_type": "markdown",
   "id": "6d5465aa-fa90-4a69-b585-a62d7b1ebc85",
   "metadata": {},
   "source": [
    "Sets all of the negative values in data to 0."
   ]
  }
 ],
 "metadata": {
  "kernelspec": {
   "display_name": "Python 3 (ipykernel)",
   "language": "python",
   "name": "python3"
  },
  "language_info": {
   "codemirror_mode": {
    "name": "ipython",
    "version": 3
   },
   "file_extension": ".py",
   "mimetype": "text/x-python",
   "name": "python",
   "nbconvert_exporter": "python",
   "pygments_lexer": "ipython3",
   "version": "3.11.10"
  },
  "widgets": {
   "application/vnd.jupyter.widget-state+json": {
    "state": {},
    "version_major": 2,
    "version_minor": 0
   }
  }
 },
 "nbformat": 4,
 "nbformat_minor": 5
}
