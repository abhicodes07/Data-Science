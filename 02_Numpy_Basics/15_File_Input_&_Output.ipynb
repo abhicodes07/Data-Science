{
 "cells": [
  {
   "cell_type": "markdown",
   "id": "f64b2451-0eb1-489a-9050-7c33d21ed0ea",
   "metadata": {},
   "source": [
    "# File Input and Output with arrays\n",
    "Save and load data to and from disk either in text or binary format."
   ]
  },
  {
   "cell_type": "code",
   "execution_count": 2,
   "id": "d3e5c8db-d0a4-4e73-8e7e-08e772cf5dea",
   "metadata": {},
   "outputs": [],
   "source": [
    "import numpy as np"
   ]
  },
  {
   "cell_type": "markdown",
   "id": "8b8ffc3d-5cff-43ef-9054-91bc78b5cf7b",
   "metadata": {},
   "source": [
    "## Sorting arrays on Disk in Binary format "
   ]
  },
  {
   "cell_type": "code",
   "execution_count": 3,
   "id": "57d22ed9-de7b-42b3-8198-6ad286d7d397",
   "metadata": {},
   "outputs": [
    {
     "data": {
      "text/plain": [
       "array([0, 1, 2, 3, 4, 5, 6, 7, 8, 9])"
      ]
     },
     "execution_count": 3,
     "metadata": {},
     "output_type": "execute_result"
    }
   ],
   "source": [
    "arr = np.arange(10)\n",
    "arr"
   ]
  },
  {
   "cell_type": "markdown",
   "id": "3c36c640-ae74-4b8e-8ec8-89589c010b21",
   "metadata": {},
   "source": [
    "## np.save \n",
    "save the above array using `np.save()` function."
   ]
  },
  {
   "cell_type": "code",
   "execution_count": 5,
   "id": "ef755abd-b34d-4402-ae85-e81c2d83a3fa",
   "metadata": {},
   "outputs": [],
   "source": [
    "np.save('some_array', arr)"
   ]
  },
  {
   "cell_type": "markdown",
   "id": "23cd59b7-b740-415b-bd24-c68b4956de8c",
   "metadata": {},
   "source": [
    "## np.load\n",
    "the array on disk can be loaded using `np.load` function"
   ]
  },
  {
   "cell_type": "code",
   "execution_count": 6,
   "id": "8a472604-6e45-42ee-81e1-5426ed210b13",
   "metadata": {},
   "outputs": [
    {
     "data": {
      "text/plain": [
       "array([0, 1, 2, 3, 4, 5, 6, 7, 8, 9])"
      ]
     },
     "execution_count": 6,
     "metadata": {},
     "output_type": "execute_result"
    }
   ],
   "source": [
    "np.load('some_array.npy') # .npy is the extension of the array file "
   ]
  }
 ],
 "metadata": {
  "kernelspec": {
   "display_name": "Python 3 (ipykernel)",
   "language": "python",
   "name": "python3"
  },
  "language_info": {
   "codemirror_mode": {
    "name": "ipython",
    "version": 3
   },
   "file_extension": ".py",
   "mimetype": "text/x-python",
   "name": "python",
   "nbconvert_exporter": "python",
   "pygments_lexer": "ipython3",
   "version": "3.12.7"
  }
 },
 "nbformat": 4,
 "nbformat_minor": 5
}
