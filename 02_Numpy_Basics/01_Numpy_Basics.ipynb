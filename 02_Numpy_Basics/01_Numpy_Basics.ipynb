{
 "cells": [
  {
   "cell_type": "markdown",
   "id": "fdfdba0b-81a9-43f5-ad31-58c639d2d9ee",
   "metadata": {},
   "source": [
    "### Numpy Basics"
   ]
  },
  {
   "cell_type": "markdown",
   "id": "7ce1dea6-c5cf-42ba-ab22-5d41b9a16fa2",
   "metadata": {},
   "source": [
    "Numpy, short for numerical python, is the fundamental package required for high performance scientific computing and data analysis."
   ]
  },
  {
   "cell_type": "markdown",
   "id": "ff33f034-7360-44ca-9cfe-0da77a5742a3",
   "metadata": {},
   "source": [
    "#### Importing **Numpy**\n",
    "I am using `import numpy as np` convention however, you are free to use `from numpy import *` too"
   ]
  },
  {
   "cell_type": "code",
   "execution_count": 1,
   "id": "202a57ed-8b31-4f55-a209-57bdd65926ed",
   "metadata": {},
   "outputs": [],
   "source": [
    "import numpy as np"
   ]
  },
  {
   "cell_type": "markdown",
   "id": "1d37d01e-2f3c-40ec-9ef4-226688622a2c",
   "metadata": {},
   "source": [
    "#### Numpy ***ndarray*** : A multidimensional array object\n",
    "N-dimensional array object, or ndarray, which is a fast, flexible container for large data sets in python.\n",
    "An *ndarray* is a genric multidimensional container for ***homogenous*** data, that is, all of the elements must be of same type."
   ]
  },
  {
   "cell_type": "markdown",
   "id": "da4f64d7-cfa5-444d-abab-2e72346bb32e",
   "metadata": {},
   "source": [
    "#### Creating ndarrays\n",
    "A ***ndarray*** of n dimension can be created using a *array function*.\n",
    "A array function is used for converting a sequence of data into an array object.  "
   ]
  },
  {
   "cell_type": "code",
   "execution_count": 2,
   "id": "416660a7-74f8-4895-aba1-a48f3f912a1e",
   "metadata": {},
   "outputs": [],
   "source": [
    "# sequential data\n",
    "data = [1, 2, 3, 4, 5]"
   ]
  },
  {
   "cell_type": "code",
   "execution_count": 3,
   "id": "9ed3d754-d18a-4650-b2cc-6569db6019db",
   "metadata": {},
   "outputs": [
    {
     "data": {
      "text/plain": [
       "array([1, 2, 3, 4, 5])"
      ]
     },
     "execution_count": 3,
     "metadata": {},
     "output_type": "execute_result"
    }
   ],
   "source": [
    "arr1 = np.array(data)\n",
    "arr1"
   ]
  },
  {
   "cell_type": "markdown",
   "id": "992cb09a-2e01-4c70-8349-c15e61cbd127",
   "metadata": {},
   "source": [
    "#### Multidimensional array\n",
    "We can create a multi-dimensional array using nested sequence of data, like a ***list*** of equal-length lists."
   ]
  },
  {
   "cell_type": "code",
   "execution_count": 4,
   "id": "83c632a2-9efb-4af0-b1ae-87d81e71b8c1",
   "metadata": {},
   "outputs": [],
   "source": [
    "data2 = [[1, 2, 3, 4],\n",
    "         [5, 6, 7, 8]] # a nested list sequence of equal lists"
   ]
  },
  {
   "cell_type": "code",
   "execution_count": 5,
   "id": "4b043705-64c1-44ec-98a5-97bae657b136",
   "metadata": {},
   "outputs": [],
   "source": [
    "arr2 = np.array(data2)"
   ]
  },
  {
   "cell_type": "code",
   "execution_count": 6,
   "id": "3e79eee6-17ca-4566-bd42-cab3af7a6606",
   "metadata": {},
   "outputs": [
    {
     "data": {
      "text/plain": [
       "array([[1, 2, 3, 4],\n",
       "       [5, 6, 7, 8]])"
      ]
     },
     "execution_count": 6,
     "metadata": {},
     "output_type": "execute_result"
    }
   ],
   "source": [
    "arr2"
   ]
  },
  {
   "cell_type": "markdown",
   "id": "432ddf2d-f7c2-4335-b03d-bb248bbaa524",
   "metadata": {},
   "source": [
    "#### Basic Objects & Functions"
   ]
  },
  {
   "cell_type": "markdown",
   "id": "622362bb-4098-4190-861e-17f063606628",
   "metadata": {},
   "source": [
    "1. ndim : `ndim` method can be used to find the dimensions of an array\n"
   ]
  },
  {
   "cell_type": "code",
   "execution_count": 7,
   "id": "4d5c302f-b9e6-4cb9-91bc-85188ee16dfb",
   "metadata": {},
   "outputs": [],
   "source": [
    "data3 = [[1, 2, 3, 4],\n",
    "         [5, 6, 7, 8]]"
   ]
  },
  {
   "cell_type": "code",
   "execution_count": 8,
   "id": "fd9210c2-f587-4aff-85fb-e1bf760a52a6",
   "metadata": {},
   "outputs": [
    {
     "data": {
      "text/plain": [
       "array([[1, 2, 3, 4],\n",
       "       [5, 6, 7, 8]])"
      ]
     },
     "execution_count": 8,
     "metadata": {},
     "output_type": "execute_result"
    }
   ],
   "source": [
    "arr3 =  np.array(data3)\n",
    "arr3"
   ]
  },
  {
   "cell_type": "code",
   "execution_count": 9,
   "id": "db70a814-1531-433a-b0f5-ba39cf21453a",
   "metadata": {},
   "outputs": [
    {
     "data": {
      "text/plain": [
       "2"
      ]
     },
     "execution_count": 9,
     "metadata": {},
     "output_type": "execute_result"
    }
   ],
   "source": [
    "arr3.ndim # dimension of array"
   ]
  },
  {
   "cell_type": "markdown",
   "id": "3cc3d58b-3acb-4a7d-b39b-3b96a6b3fe8d",
   "metadata": {},
   "source": [
    "2. shape : `np.shape` method is used to find the shape of the ndarray"
   ]
  },
  {
   "cell_type": "code",
   "execution_count": 10,
   "id": "874cccb8-eff3-42c1-830e-88024e50ef12",
   "metadata": {},
   "outputs": [
    {
     "data": {
      "text/plain": [
       "(2, 4)"
      ]
     },
     "execution_count": 10,
     "metadata": {},
     "output_type": "execute_result"
    }
   ],
   "source": [
    "arr3.shape"
   ]
  },
  {
   "cell_type": "markdown",
   "id": "c2a61027-0151-4678-bba1-ef9296fd4453",
   "metadata": {},
   "source": [
    "4. dtype : `np.dtype` is a method used for identifing the data type of an ndarray"
   ]
  },
  {
   "cell_type": "code",
   "execution_count": 11,
   "id": "487a2f9f-611c-4607-b7ad-25950d0d84c2",
   "metadata": {},
   "outputs": [
    {
     "data": {
      "text/plain": [
       "dtype('int64')"
      ]
     },
     "execution_count": 11,
     "metadata": {},
     "output_type": "execute_result"
    }
   ],
   "source": [
    "arr3.dtype"
   ]
  },
  {
   "cell_type": "markdown",
   "id": "e77ff4f1-ac85-4df0-9032-015d91d1503c",
   "metadata": {},
   "source": [
    "#### Some of the additional method for creating ndarray's\n",
    "In addition to `np.array` we can create an ndarray using,"
   ]
  },
  {
   "cell_type": "markdown",
   "id": "e359e577-f726-4f6a-99f3-48f2ac687a27",
   "metadata": {},
   "source": [
    "1. **np.zeros** = `np.zeros(size)` method is used for creating an array of 0's of specified size."
   ]
  },
  {
   "cell_type": "code",
   "execution_count": 12,
   "id": "36f3df76-3123-40cb-8240-c4ca49470a56",
   "metadata": {},
   "outputs": [
    {
     "data": {
      "text/plain": [
       "array([0., 0., 0., 0., 0., 0., 0., 0., 0., 0.])"
      ]
     },
     "execution_count": 12,
     "metadata": {},
     "output_type": "execute_result"
    }
   ],
   "source": [
    "arr4 = np.zeros(10)\n",
    "arr4"
   ]
  },
  {
   "cell_type": "code",
   "execution_count": 13,
   "id": "e5b4f926-07bb-4f8c-bb5e-4e17f7986f34",
   "metadata": {},
   "outputs": [
    {
     "data": {
      "text/plain": [
       "array([[0., 0., 0., 0., 0.],\n",
       "       [0., 0., 0., 0., 0.]])"
      ]
     },
     "execution_count": 13,
     "metadata": {},
     "output_type": "execute_result"
    }
   ],
   "source": [
    "arr5 = np.zeros((2, 5)) # multi dimensional size of array should be specified in brackets\n",
    "arr5"
   ]
  },
  {
   "cell_type": "markdown",
   "id": "54c683c3-3d1b-4d12-aefd-513cb7272ccf",
   "metadata": {},
   "source": [
    "2. **np.ones(size)** : `np.ones(size)` method is used for creating an array of 1's of specified size"
   ]
  },
  {
   "cell_type": "code",
   "execution_count": 14,
   "id": "b80125d0-f69b-4ee1-980e-3f07e4301d63",
   "metadata": {},
   "outputs": [
    {
     "data": {
      "text/plain": [
       "array([1., 1., 1., 1., 1., 1., 1., 1., 1., 1.])"
      ]
     },
     "execution_count": 14,
     "metadata": {},
     "output_type": "execute_result"
    }
   ],
   "source": [
    "arr6 = np.ones(10)\n",
    "arr6"
   ]
  },
  {
   "cell_type": "code",
   "execution_count": 15,
   "id": "40cf0bbe-a704-4dfe-b8d0-3bf4a1f7cde9",
   "metadata": {},
   "outputs": [
    {
     "data": {
      "text/plain": [
       "array([[1., 1., 1., 1., 1.],\n",
       "       [1., 1., 1., 1., 1.]])"
      ]
     },
     "execution_count": 15,
     "metadata": {},
     "output_type": "execute_result"
    }
   ],
   "source": [
    "arr7 = np.ones((2, 5)) \n",
    "arr7"
   ]
  },
  {
   "cell_type": "code",
   "execution_count": 16,
   "id": "e927ba10-d2d1-4ede-ba1c-c10825c0c315",
   "metadata": {},
   "outputs": [
    {
     "data": {
      "text/plain": [
       "dtype('float64')"
      ]
     },
     "execution_count": 16,
     "metadata": {},
     "output_type": "execute_result"
    }
   ],
   "source": [
    "arr7.dtype "
   ]
  },
  {
   "cell_type": "markdown",
   "id": "82e136a7-4a87-4eab-b433-6190f2b21d6e",
   "metadata": {},
   "source": [
    "3. **np.empty(size)** : `np.empty(size)` method is used for creating an empty array, usually consisting garbage value."
   ]
  },
  {
   "cell_type": "code",
   "execution_count": 17,
   "id": "1873af12-ef1a-4da2-a80f-ee13cd968258",
   "metadata": {},
   "outputs": [
    {
     "data": {
      "text/plain": [
       "array([[0., 0., 0., 0., 0.],\n",
       "       [0., 0., 0., 0., 0.],\n",
       "       [0., 0., 0., 0., 0.],\n",
       "       [0., 0., 0., 0., 0.],\n",
       "       [0., 0., 0., 0., 0.]])"
      ]
     },
     "execution_count": 17,
     "metadata": {},
     "output_type": "execute_result"
    }
   ],
   "source": [
    "arr8 = np.empty((5, 5))\n",
    "arr8"
   ]
  },
  {
   "cell_type": "markdown",
   "id": "b71f2c95-7c16-4aea-9237-cd85f88801a7",
   "metadata": {},
   "source": [
    "4. **np.arange** : `np.arange` method is used for creating an array of range of numbers. It is based on built-in `range` function."
   ]
  },
  {
   "cell_type": "code",
   "execution_count": 18,
   "id": "c8e5ce9d-6f8c-4046-8581-7f90eb63970f",
   "metadata": {},
   "outputs": [
    {
     "data": {
      "text/plain": [
       "array([0, 1, 2, 3, 4, 5, 6, 7, 8, 9])"
      ]
     },
     "execution_count": 18,
     "metadata": {},
     "output_type": "execute_result"
    }
   ],
   "source": [
    "arr9 = np.arange(10)\n",
    "arr9"
   ]
  },
  {
   "cell_type": "code",
   "execution_count": null,
   "id": "88aaca58-6d1a-44ea-b1f5-313a7134d73e",
   "metadata": {},
   "outputs": [],
   "source": []
  }
 ],
 "metadata": {
  "kernelspec": {
   "display_name": "Python 3 (ipykernel)",
   "language": "python",
   "name": "python3"
  },
  "language_info": {
   "codemirror_mode": {
    "name": "ipython",
    "version": 3
   },
   "file_extension": ".py",
   "mimetype": "text/x-python",
   "name": "python",
   "nbconvert_exporter": "python",
   "pygments_lexer": "ipython3",
   "version": "3.11.10"
  },
  "widgets": {
   "application/vnd.jupyter.widget-state+json": {
    "state": {},
    "version_major": 2,
    "version_minor": 0
   }
  }
 },
 "nbformat": 4,
 "nbformat_minor": 5
}
