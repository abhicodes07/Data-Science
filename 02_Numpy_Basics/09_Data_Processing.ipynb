{
 "cells": [
  {
   "cell_type": "markdown",
   "id": "7bc545bc-c623-4fef-a4ee-7a216b941d46",
   "metadata": {},
   "source": [
    "# Data Processing Using Arrays\n",
    "Data Processing includes tasks such as concise array **expressions** that might require using loops."
   ]
  },
  {
   "cell_type": "markdown",
   "id": "1ad86e63-10c1-4231-9e52-234a734f7f30",
   "metadata": {},
   "source": [
    "## Vectorization\n",
    "The practice of replacing explicit loops with array expressions is commonly referred to as ***Vectorization.***"
   ]
  },
  {
   "cell_type": "markdown",
   "id": "b144844b-183c-4c33-a86e-02badc976a19",
   "metadata": {},
   "source": [
    "**Example:** To evaluate `sqrt(x^2 + y^2)` across a regular grid of values. "
   ]
  },
  {
   "cell_type": "markdown",
   "id": "8dc0895b-e53f-4503-8ce0-7d82304a5a24",
   "metadata": {},
   "source": [
    "***np.meshgrid()***\n",
    "The `np.meshgrid()` function takes two 1D arrays and produces two 2D matrices corresponding to all paors of (x, y) in the two arrays."
   ]
  },
  {
   "cell_type": "code",
   "execution_count": 1,
   "id": "7e6683e7-38ed-4b38-8470-f1abddcde790",
   "metadata": {},
   "outputs": [],
   "source": [
    "import numpy as np\n",
    "import matplotlib.pyplot as plt"
   ]
  },
  {
   "cell_type": "code",
   "execution_count": 2,
   "id": "13c1578f-dd18-4719-913c-9ffe2c7f4359",
   "metadata": {},
   "outputs": [],
   "source": [
    "points = np.arange(-2, 3)"
   ]
  },
  {
   "cell_type": "code",
   "execution_count": 3,
   "id": "0542f1d2-396f-498a-bd9a-caadb6aa764a",
   "metadata": {},
   "outputs": [],
   "source": [
    "xs, ys = np.meshgrid(points, points) # xs: x square and y: y square"
   ]
  },
  {
   "cell_type": "code",
   "execution_count": 4,
   "id": "8d4514f7-024e-4d93-8dd4-c28442f98d70",
   "metadata": {},
   "outputs": [
    {
     "data": {
      "text/plain": [
       "array([-2, -1,  0,  1,  2])"
      ]
     },
     "execution_count": 4,
     "metadata": {},
     "output_type": "execute_result"
    }
   ],
   "source": [
    "points"
   ]
  },
  {
   "cell_type": "code",
   "execution_count": 5,
   "id": "d4b0405f-d41c-4676-8b26-48493489e445",
   "metadata": {},
   "outputs": [
    {
     "data": {
      "text/plain": [
       "array([[-2, -1,  0,  1,  2],\n",
       "       [-2, -1,  0,  1,  2],\n",
       "       [-2, -1,  0,  1,  2],\n",
       "       [-2, -1,  0,  1,  2],\n",
       "       [-2, -1,  0,  1,  2]])"
      ]
     },
     "execution_count": 5,
     "metadata": {},
     "output_type": "execute_result"
    }
   ],
   "source": [
    "xs"
   ]
  },
  {
   "cell_type": "code",
   "execution_count": 6,
   "id": "8f05e2e1-6b9a-49f2-a26e-8956e4940a15",
   "metadata": {},
   "outputs": [
    {
     "data": {
      "text/plain": [
       "array([[-2, -2, -2, -2, -2],\n",
       "       [-1, -1, -1, -1, -1],\n",
       "       [ 0,  0,  0,  0,  0],\n",
       "       [ 1,  1,  1,  1,  1],\n",
       "       [ 2,  2,  2,  2,  2]])"
      ]
     },
     "execution_count": 6,
     "metadata": {},
     "output_type": "execute_result"
    }
   ],
   "source": [
    "ys"
   ]
  },
  {
   "cell_type": "markdown",
   "id": "6533f757-b70b-4478-8b10-4259c6edc18d",
   "metadata": {},
   "source": [
    "Squares of both `xs` and `ys`:"
   ]
  },
  {
   "cell_type": "code",
   "execution_count": 7,
   "id": "899e5ae5-5fd3-4d6e-9a4d-9f09426e5dc9",
   "metadata": {},
   "outputs": [
    {
     "data": {
      "text/plain": [
       "array([[4, 1, 0, 1, 4],\n",
       "       [4, 1, 0, 1, 4],\n",
       "       [4, 1, 0, 1, 4],\n",
       "       [4, 1, 0, 1, 4],\n",
       "       [4, 1, 0, 1, 4]])"
      ]
     },
     "execution_count": 7,
     "metadata": {},
     "output_type": "execute_result"
    }
   ],
   "source": [
    "np.square(xs)"
   ]
  },
  {
   "cell_type": "code",
   "execution_count": 8,
   "id": "063a981b-abbf-45e1-9e7f-c47da1080155",
   "metadata": {},
   "outputs": [
    {
     "data": {
      "text/plain": [
       "array([[4, 4, 4, 4, 4],\n",
       "       [1, 1, 1, 1, 1],\n",
       "       [0, 0, 0, 0, 0],\n",
       "       [1, 1, 1, 1, 1],\n",
       "       [4, 4, 4, 4, 4]])"
      ]
     },
     "execution_count": 8,
     "metadata": {},
     "output_type": "execute_result"
    }
   ],
   "source": [
    "np.square(ys)"
   ]
  },
  {
   "cell_type": "code",
   "execution_count": 9,
   "id": "9346ffdb-fc23-43c1-828c-09d3ef846590",
   "metadata": {},
   "outputs": [
    {
     "data": {
      "text/plain": [
       "array([[-4, -3, -2, -1,  0],\n",
       "       [-3, -2, -1,  0,  1],\n",
       "       [-2, -1,  0,  1,  2],\n",
       "       [-1,  0,  1,  2,  3],\n",
       "       [ 0,  1,  2,  3,  4]])"
      ]
     },
     "execution_count": 9,
     "metadata": {},
     "output_type": "execute_result"
    }
   ],
   "source": [
    "add = xs + ys\n",
    "add"
   ]
  },
  {
   "cell_type": "code",
   "execution_count": 10,
   "id": "3829c994-74bf-48b9-bfb0-1e2a78dde13a",
   "metadata": {},
   "outputs": [],
   "source": [
    "z = np.square(xs ** 2 + ys ** 2)"
   ]
  },
  {
   "cell_type": "code",
   "execution_count": 11,
   "id": "20aeb1ac-5d26-4219-95b8-1ce0b9128eb3",
   "metadata": {
    "scrolled": true
   },
   "outputs": [
    {
     "data": {
      "text/plain": [
       "array([[64, 25, 16, 25, 64],\n",
       "       [25,  4,  1,  4, 25],\n",
       "       [16,  1,  0,  1, 16],\n",
       "       [25,  4,  1,  4, 25],\n",
       "       [64, 25, 16, 25, 64]])"
      ]
     },
     "execution_count": 11,
     "metadata": {},
     "output_type": "execute_result"
    }
   ],
   "source": [
    "z"
   ]
  },
  {
   "cell_type": "code",
   "execution_count": 12,
   "id": "6e200da1-e0a2-4659-8bc1-0e86f78aa894",
   "metadata": {},
   "outputs": [
    {
     "data": {
      "text/plain": [
       "<matplotlib.colorbar.Colorbar at 0x22d2e813230>"
      ]
     },
     "execution_count": 12,
     "metadata": {},
     "output_type": "execute_result"
    },
    {
     "data": {
      "image/png": "[encoded data removed]",
      "text/plain": [
       "<Figure size 640x480 with 2 Axes>"
      ]
     },
     "metadata": {},
     "output_type": "display_data"
    }
   ],
   "source": [
    "plt.title(\"Image plot of ${(x^2 + y^2)^2}$ for a grid of values\")\n",
    "plt.imshow(z, cmap=plt.cm.grey); plt.colorbar()"
   ]
  },
  {
   "cell_type": "code",
   "execution_count": null,
   "id": "a013f7db-d9a0-4cd8-8735-98185ee591ef",
   "metadata": {},
   "outputs": [],
   "source": []
  }
 ],
 "metadata": {
  "kernelspec": {
   "display_name": "Python 3 (ipykernel)",
   "language": "python",
   "name": "python3"
  },
  "language_info": {
   "codemirror_mode": {
    "name": "ipython",
    "version": 3
   },
   "file_extension": ".py",
   "mimetype": "text/x-python",
   "name": "python",
   "nbconvert_exporter": "python",
   "pygments_lexer": "ipython3",
   "version": "3.12.7"
  }
 },
 "nbformat": 4,
 "nbformat_minor": 5
}
