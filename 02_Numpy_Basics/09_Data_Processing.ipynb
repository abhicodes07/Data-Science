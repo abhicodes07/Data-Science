{
 "cells": [
  {
   "cell_type": "markdown",
   "id": "7bc545bc-c623-4fef-a4ee-7a216b941d46",
   "metadata": {},
   "source": [
    "# Data Processing Using Arrays\n",
    "Data Processing includes tasks such as concise array **expressions** that might require using loops."
   ]
  },
  {
   "cell_type": "markdown",
   "id": "1ad86e63-10c1-4231-9e52-234a734f7f30",
   "metadata": {},
   "source": [
    "## Vectorization\n",
    "The practice of replacing explicit loops with array expressions is commonly referred to as ***Vectorization.***"
   ]
  },
  {
   "cell_type": "markdown",
   "id": "b144844b-183c-4c33-a86e-02badc976a19",
   "metadata": {},
   "source": [
    "**Example:** To evaluate `sqrt(x^2 + y^2)` across a regular grid of values. "
   ]
  },
  {
   "cell_type": "markdown",
   "id": "8dc0895b-e53f-4503-8ce0-7d82304a5a24",
   "metadata": {},
   "source": [
    "***np.meshgrid()***\n",
    "The `np.meshgrid()` function takes two 1D arrays and produces two 2D matrices corresponding to all paors of (x, y) in the two arrays."
   ]
  },
  {
   "cell_type": "code",
   "execution_count": 1,
   "id": "7e6683e7-38ed-4b38-8470-f1abddcde790",
   "metadata": {},
   "outputs": [],
   "source": [
    "import numpy as np\n",
    "import matplotlib.pyplot as plt"
   ]
  },
  {
   "cell_type": "code",
   "execution_count": 2,
   "id": "13c1578f-dd18-4719-913c-9ffe2c7f4359",
   "metadata": {},
   "outputs": [],
   "source": [
    "points = np.arange(-2, 3)"
   ]
  },
  {
   "cell_type": "code",
   "execution_count": 3,
   "id": "0542f1d2-396f-498a-bd9a-caadb6aa764a",
   "metadata": {},
   "outputs": [],
   "source": [
    "xs, ys = np.meshgrid(points, points) # xs: x square and y: y square"
   ]
  },
  {
   "cell_type": "code",
   "execution_count": 4,
   "id": "8d4514f7-024e-4d93-8dd4-c28442f98d70",
   "metadata": {},
   "outputs": [
    {
     "data": {
      "text/plain": [
       "array([-2, -1,  0,  1,  2])"
      ]
     },
     "execution_count": 4,
     "metadata": {},
     "output_type": "execute_result"
    }
   ],
   "source": [
    "points"
   ]
  },
  {
   "cell_type": "code",
   "execution_count": 5,
   "id": "d4b0405f-d41c-4676-8b26-48493489e445",
   "metadata": {},
   "outputs": [
    {
     "data": {
      "text/plain": [
       "array([[-2, -1,  0,  1,  2],\n",
       "       [-2, -1,  0,  1,  2],\n",
       "       [-2, -1,  0,  1,  2],\n",
       "       [-2, -1,  0,  1,  2],\n",
       "       [-2, -1,  0,  1,  2]])"
      ]
     },
     "execution_count": 5,
     "metadata": {},
     "output_type": "execute_result"
    }
   ],
   "source": [
    "xs"
   ]
  },
  {
   "cell_type": "code",
   "execution_count": 6,
   "id": "8f05e2e1-6b9a-49f2-a26e-8956e4940a15",
   "metadata": {},
   "outputs": [
    {
     "data": {
      "text/plain": [
       "array([[-2, -2, -2, -2, -2],\n",
       "       [-1, -1, -1, -1, -1],\n",
       "       [ 0,  0,  0,  0,  0],\n",
       "       [ 1,  1,  1,  1,  1],\n",
       "       [ 2,  2,  2,  2,  2]])"
      ]
     },
     "execution_count": 6,
     "metadata": {},
     "output_type": "execute_result"
    }
   ],
   "source": [
    "ys"
   ]
  },
  {
   "cell_type": "markdown",
   "id": "6533f757-b70b-4478-8b10-4259c6edc18d",
   "metadata": {},
   "source": [
    "Squares of both `xs` and `ys`:"
   ]
  },
  {
   "cell_type": "code",
   "execution_count": 7,
   "id": "899e5ae5-5fd3-4d6e-9a4d-9f09426e5dc9",
   "metadata": {},
   "outputs": [
    {
     "data": {
      "text/plain": [
       "array([[4, 1, 0, 1, 4],\n",
       "       [4, 1, 0, 1, 4],\n",
       "       [4, 1, 0, 1, 4],\n",
       "       [4, 1, 0, 1, 4],\n",
       "       [4, 1, 0, 1, 4]])"
      ]
     },
     "execution_count": 7,
     "metadata": {},
     "output_type": "execute_result"
    }
   ],
   "source": [
    "np.square(xs)"
   ]
  },
  {
   "cell_type": "code",
   "execution_count": 8,
   "id": "063a981b-abbf-45e1-9e7f-c47da1080155",
   "metadata": {},
   "outputs": [
    {
     "data": {
      "text/plain": [
       "array([[4, 4, 4, 4, 4],\n",
       "       [1, 1, 1, 1, 1],\n",
       "       [0, 0, 0, 0, 0],\n",
       "       [1, 1, 1, 1, 1],\n",
       "       [4, 4, 4, 4, 4]])"
      ]
     },
     "execution_count": 8,
     "metadata": {},
     "output_type": "execute_result"
    }
   ],
   "source": [
    "np.square(ys)"
   ]
  },
  {
   "cell_type": "code",
   "execution_count": 9,
   "id": "9346ffdb-fc23-43c1-828c-09d3ef846590",
   "metadata": {},
   "outputs": [
    {
     "data": {
      "text/plain": [
       "array([[-4, -3, -2, -1,  0],\n",
       "       [-3, -2, -1,  0,  1],\n",
       "       [-2, -1,  0,  1,  2],\n",
       "       [-1,  0,  1,  2,  3],\n",
       "       [ 0,  1,  2,  3,  4]])"
      ]
     },
     "execution_count": 9,
     "metadata": {},
     "output_type": "execute_result"
    }
   ],
   "source": [
    "add = xs + ys\n",
    "add"
   ]
  },
  {
   "cell_type": "code",
   "execution_count": 10,
   "id": "3829c994-74bf-48b9-bfb0-1e2a78dde13a",
   "metadata": {},
   "outputs": [],
   "source": [
    "z = np.square(xs ** 2 + ys ** 2)"
   ]
  },
  {
   "cell_type": "code",
   "execution_count": 11,
   "id": "20aeb1ac-5d26-4219-95b8-1ce0b9128eb3",
   "metadata": {
    "scrolled": true
   },
   "outputs": [
    {
     "data": {
      "text/plain": [
       "array([[64, 25, 16, 25, 64],\n",
       "       [25,  4,  1,  4, 25],\n",
       "       [16,  1,  0,  1, 16],\n",
       "       [25,  4,  1,  4, 25],\n",
       "       [64, 25, 16, 25, 64]])"
      ]
     },
     "execution_count": 11,
     "metadata": {},
     "output_type": "execute_result"
    }
   ],
   "source": [
    "z"
   ]
  },
  {
   "cell_type": "code",
   "execution_count": 12,
   "id": "6e200da1-e0a2-4659-8bc1-0e86f78aa894",
   "metadata": {},
   "outputs": [
    {
     "data": {
      "text/plain": [
       "<matplotlib.colorbar.Colorbar at 0x1d96b453380>"
      ]
     },
     "execution_count": 12,
     "metadata": {},
     "output_type": "execute_result"
    },
    {
     "data": {
      "image/png": "[encoded data removed]",
      "text/plain": [
       "<Figure size 640x480 with 2 Axes>"
      ]
     },
     "metadata": {},
     "output_type": "display_data"
    }
   ],
   "source": [
    "plt.title(\"Image plot of ${(x^2 + y^2)^2}$ for a grid of values\")\n",
    "plt.imshow(z, cmap=plt.cm.grey); plt.colorbar()"
   ]
  },
  {
   "cell_type": "markdown",
   "id": "b2f5cb43-1d25-46f0-ac0c-9ab6a8e2517c",
   "metadata": {},
   "source": [
    "**Example:**  evaluate sqrt(x^2 + y^2)"
   ]
  },
  {
   "cell_type": "code",
   "execution_count": 16,
   "id": "92e066ea-3712-4e9b-bed9-4af4a8650c86",
   "metadata": {},
   "outputs": [
    {
     "data": {
      "text/plain": [
       "array([-5.  , -4.99, -4.98, -4.97, -4.96, -4.95, -4.94, -4.93, -4.92,\n",
       "       -4.91, -4.9 , -4.89, -4.88, -4.87, -4.86, -4.85, -4.84, -4.83,\n",
       "       -4.82, -4.81, -4.8 , -4.79, -4.78, -4.77, -4.76, -4.75, -4.74,\n",
       "       -4.73, -4.72, -4.71, -4.7 , -4.69, -4.68, -4.67, -4.66, -4.65,\n",
       "       -4.64, -4.63, -4.62, -4.61, -4.6 , -4.59, -4.58, -4.57, -4.56,\n",
       "       -4.55, -4.54, -4.53, -4.52, -4.51, -4.5 , -4.49, -4.48, -4.47,\n",
       "       -4.46, -4.45, -4.44, -4.43, -4.42, -4.41, -4.4 , -4.39, -4.38,\n",
       "       -4.37, -4.36, -4.35, -4.34, -4.33, -4.32, -4.31, -4.3 , -4.29,\n",
       "       -4.28, -4.27, -4.26, -4.25, -4.24, -4.23, -4.22, -4.21, -4.2 ,\n",
       "       -4.19, -4.18, -4.17, -4.16, -4.15, -4.14, -4.13, -4.12, -4.11,\n",
       "       -4.1 , -4.09, -4.08, -4.07, -4.06, -4.05, -4.04, -4.03, -4.02,\n",
       "       -4.01, -4.  , -3.99, -3.98, -3.97, -3.96, -3.95, -3.94, -3.93,\n",
       "       -3.92, -3.91, -3.9 , -3.89, -3.88, -3.87, -3.86, -3.85, -3.84,\n",
       "       -3.83, -3.82, -3.81, -3.8 , -3.79, -3.78, -3.77, -3.76, -3.75,\n",
       "       -3.74, -3.73, -3.72, -3.71, -3.7 , -3.69, -3.68, -3.67, -3.66,\n",
       "       -3.65, -3.64, -3.63, -3.62, -3.61, -3.6 , -3.59, -3.58, -3.57,\n",
       "       -3.56, -3.55, -3.54, -3.53, -3.52, -3.51, -3.5 , -3.49, -3.48,\n",
       "       -3.47, -3.46, -3.45, -3.44, -3.43, -3.42, -3.41, -3.4 , -3.39,\n",
       "       -3.38, -3.37, -3.36, -3.35, -3.34, -3.33, -3.32, -3.31, -3.3 ,\n",
       "       -3.29, -3.28, -3.27, -3.26, -3.25, -3.24, -3.23, -3.22, -3.21,\n",
       "       -3.2 , -3.19, -3.18, -3.17, -3.16, -3.15, -3.14, -3.13, -3.12,\n",
       "       -3.11, -3.1 , -3.09, -3.08, -3.07, -3.06, -3.05, -3.04, -3.03,\n",
       "       -3.02, -3.01, -3.  , -2.99, -2.98, -2.97, -2.96, -2.95, -2.94,\n",
       "       -2.93, -2.92, -2.91, -2.9 , -2.89, -2.88, -2.87, -2.86, -2.85,\n",
       "       -2.84, -2.83, -2.82, -2.81, -2.8 , -2.79, -2.78, -2.77, -2.76,\n",
       "       -2.75, -2.74, -2.73, -2.72, -2.71, -2.7 , -2.69, -2.68, -2.67,\n",
       "       -2.66, -2.65, -2.64, -2.63, -2.62, -2.61, -2.6 , -2.59, -2.58,\n",
       "       -2.57, -2.56, -2.55, -2.54, -2.53, -2.52, -2.51, -2.5 , -2.49,\n",
       "       -2.48, -2.47, -2.46, -2.45, -2.44, -2.43, -2.42, -2.41, -2.4 ,\n",
       "       -2.39, -2.38, -2.37, -2.36, -2.35, -2.34, -2.33, -2.32, -2.31,\n",
       "       -2.3 , -2.29, -2.28, -2.27, -2.26, -2.25, -2.24, -2.23, -2.22,\n",
       "       -2.21, -2.2 , -2.19, -2.18, -2.17, -2.16, -2.15, -2.14, -2.13,\n",
       "       -2.12, -2.11, -2.1 , -2.09, -2.08, -2.07, -2.06, -2.05, -2.04,\n",
       "       -2.03, -2.02, -2.01, -2.  , -1.99, -1.98, -1.97, -1.96, -1.95,\n",
       "       -1.94, -1.93, -1.92, -1.91, -1.9 , -1.89, -1.88, -1.87, -1.86,\n",
       "       -1.85, -1.84, -1.83, -1.82, -1.81, -1.8 , -1.79, -1.78, -1.77,\n",
       "       -1.76, -1.75, -1.74, -1.73, -1.72, -1.71, -1.7 , -1.69, -1.68,\n",
       "       -1.67, -1.66, -1.65, -1.64, -1.63, -1.62, -1.61, -1.6 , -1.59,\n",
       "       -1.58, -1.57, -1.56, -1.55, -1.54, -1.53, -1.52, -1.51, -1.5 ,\n",
       "       -1.49, -1.48, -1.47, -1.46, -1.45, -1.44, -1.43, -1.42, -1.41,\n",
       "       -1.4 , -1.39, -1.38, -1.37, -1.36, -1.35, -1.34, -1.33, -1.32,\n",
       "       -1.31, -1.3 , -1.29, -1.28, -1.27, -1.26, -1.25, -1.24, -1.23,\n",
       "       -1.22, -1.21, -1.2 , -1.19, -1.18, -1.17, -1.16, -1.15, -1.14,\n",
       "       -1.13, -1.12, -1.11, -1.1 , -1.09, -1.08, -1.07, -1.06, -1.05,\n",
       "       -1.04, -1.03, -1.02, -1.01, -1.  , -0.99, -0.98, -0.97, -0.96,\n",
       "       -0.95, -0.94, -0.93, -0.92, -0.91, -0.9 , -0.89, -0.88, -0.87,\n",
       "       -0.86, -0.85, -0.84, -0.83, -0.82, -0.81, -0.8 , -0.79, -0.78,\n",
       "       -0.77, -0.76, -0.75, -0.74, -0.73, -0.72, -0.71, -0.7 , -0.69,\n",
       "       -0.68, -0.67, -0.66, -0.65, -0.64, -0.63, -0.62, -0.61, -0.6 ,\n",
       "       -0.59, -0.58, -0.57, -0.56, -0.55, -0.54, -0.53, -0.52, -0.51,\n",
       "       -0.5 , -0.49, -0.48, -0.47, -0.46, -0.45, -0.44, -0.43, -0.42,\n",
       "       -0.41, -0.4 , -0.39, -0.38, -0.37, -0.36, -0.35, -0.34, -0.33,\n",
       "       -0.32, -0.31, -0.3 , -0.29, -0.28, -0.27, -0.26, -0.25, -0.24,\n",
       "       -0.23, -0.22, -0.21, -0.2 , -0.19, -0.18, -0.17, -0.16, -0.15,\n",
       "       -0.14, -0.13, -0.12, -0.11, -0.1 , -0.09, -0.08, -0.07, -0.06,\n",
       "       -0.05, -0.04, -0.03, -0.02, -0.01, -0.  ,  0.01,  0.02,  0.03,\n",
       "        0.04,  0.05,  0.06,  0.07,  0.08,  0.09,  0.1 ,  0.11,  0.12,\n",
       "        0.13,  0.14,  0.15,  0.16,  0.17,  0.18,  0.19,  0.2 ,  0.21,\n",
       "        0.22,  0.23,  0.24,  0.25,  0.26,  0.27,  0.28,  0.29,  0.3 ,\n",
       "        0.31,  0.32,  0.33,  0.34,  0.35,  0.36,  0.37,  0.38,  0.39,\n",
       "        0.4 ,  0.41,  0.42,  0.43,  0.44,  0.45,  0.46,  0.47,  0.48,\n",
       "        0.49,  0.5 ,  0.51,  0.52,  0.53,  0.54,  0.55,  0.56,  0.57,\n",
       "        0.58,  0.59,  0.6 ,  0.61,  0.62,  0.63,  0.64,  0.65,  0.66,\n",
       "        0.67,  0.68,  0.69,  0.7 ,  0.71,  0.72,  0.73,  0.74,  0.75,\n",
       "        0.76,  0.77,  0.78,  0.79,  0.8 ,  0.81,  0.82,  0.83,  0.84,\n",
       "        0.85,  0.86,  0.87,  0.88,  0.89,  0.9 ,  0.91,  0.92,  0.93,\n",
       "        0.94,  0.95,  0.96,  0.97,  0.98,  0.99,  1.  ,  1.01,  1.02,\n",
       "        1.03,  1.04,  1.05,  1.06,  1.07,  1.08,  1.09,  1.1 ,  1.11,\n",
       "        1.12,  1.13,  1.14,  1.15,  1.16,  1.17,  1.18,  1.19,  1.2 ,\n",
       "        1.21,  1.22,  1.23,  1.24,  1.25,  1.26,  1.27,  1.28,  1.29,\n",
       "        1.3 ,  1.31,  1.32,  1.33,  1.34,  1.35,  1.36,  1.37,  1.38,\n",
       "        1.39,  1.4 ,  1.41,  1.42,  1.43,  1.44,  1.45,  1.46,  1.47,\n",
       "        1.48,  1.49,  1.5 ,  1.51,  1.52,  1.53,  1.54,  1.55,  1.56,\n",
       "        1.57,  1.58,  1.59,  1.6 ,  1.61,  1.62,  1.63,  1.64,  1.65,\n",
       "        1.66,  1.67,  1.68,  1.69,  1.7 ,  1.71,  1.72,  1.73,  1.74,\n",
       "        1.75,  1.76,  1.77,  1.78,  1.79,  1.8 ,  1.81,  1.82,  1.83,\n",
       "        1.84,  1.85,  1.86,  1.87,  1.88,  1.89,  1.9 ,  1.91,  1.92,\n",
       "        1.93,  1.94,  1.95,  1.96,  1.97,  1.98,  1.99,  2.  ,  2.01,\n",
       "        2.02,  2.03,  2.04,  2.05,  2.06,  2.07,  2.08,  2.09,  2.1 ,\n",
       "        2.11,  2.12,  2.13,  2.14,  2.15,  2.16,  2.17,  2.18,  2.19,\n",
       "        2.2 ,  2.21,  2.22,  2.23,  2.24,  2.25,  2.26,  2.27,  2.28,\n",
       "        2.29,  2.3 ,  2.31,  2.32,  2.33,  2.34,  2.35,  2.36,  2.37,\n",
       "        2.38,  2.39,  2.4 ,  2.41,  2.42,  2.43,  2.44,  2.45,  2.46,\n",
       "        2.47,  2.48,  2.49,  2.5 ,  2.51,  2.52,  2.53,  2.54,  2.55,\n",
       "        2.56,  2.57,  2.58,  2.59,  2.6 ,  2.61,  2.62,  2.63,  2.64,\n",
       "        2.65,  2.66,  2.67,  2.68,  2.69,  2.7 ,  2.71,  2.72,  2.73,\n",
       "        2.74,  2.75,  2.76,  2.77,  2.78,  2.79,  2.8 ,  2.81,  2.82,\n",
       "        2.83,  2.84,  2.85,  2.86,  2.87,  2.88,  2.89,  2.9 ,  2.91,\n",
       "        2.92,  2.93,  2.94,  2.95,  2.96,  2.97,  2.98,  2.99,  3.  ,\n",
       "        3.01,  3.02,  3.03,  3.04,  3.05,  3.06,  3.07,  3.08,  3.09,\n",
       "        3.1 ,  3.11,  3.12,  3.13,  3.14,  3.15,  3.16,  3.17,  3.18,\n",
       "        3.19,  3.2 ,  3.21,  3.22,  3.23,  3.24,  3.25,  3.26,  3.27,\n",
       "        3.28,  3.29,  3.3 ,  3.31,  3.32,  3.33,  3.34,  3.35,  3.36,\n",
       "        3.37,  3.38,  3.39,  3.4 ,  3.41,  3.42,  3.43,  3.44,  3.45,\n",
       "        3.46,  3.47,  3.48,  3.49,  3.5 ,  3.51,  3.52,  3.53,  3.54,\n",
       "        3.55,  3.56,  3.57,  3.58,  3.59,  3.6 ,  3.61,  3.62,  3.63,\n",
       "        3.64,  3.65,  3.66,  3.67,  3.68,  3.69,  3.7 ,  3.71,  3.72,\n",
       "        3.73,  3.74,  3.75,  3.76,  3.77,  3.78,  3.79,  3.8 ,  3.81,\n",
       "        3.82,  3.83,  3.84,  3.85,  3.86,  3.87,  3.88,  3.89,  3.9 ,\n",
       "        3.91,  3.92,  3.93,  3.94,  3.95,  3.96,  3.97,  3.98,  3.99,\n",
       "        4.  ,  4.01,  4.02,  4.03,  4.04,  4.05,  4.06,  4.07,  4.08,\n",
       "        4.09,  4.1 ,  4.11,  4.12,  4.13,  4.14,  4.15,  4.16,  4.17,\n",
       "        4.18,  4.19,  4.2 ,  4.21,  4.22,  4.23,  4.24,  4.25,  4.26,\n",
       "        4.27,  4.28,  4.29,  4.3 ,  4.31,  4.32,  4.33,  4.34,  4.35,\n",
       "        4.36,  4.37,  4.38,  4.39,  4.4 ,  4.41,  4.42,  4.43,  4.44,\n",
       "        4.45,  4.46,  4.47,  4.48,  4.49,  4.5 ,  4.51,  4.52,  4.53,\n",
       "        4.54,  4.55,  4.56,  4.57,  4.58,  4.59,  4.6 ,  4.61,  4.62,\n",
       "        4.63,  4.64,  4.65,  4.66,  4.67,  4.68,  4.69,  4.7 ,  4.71,\n",
       "        4.72,  4.73,  4.74,  4.75,  4.76,  4.77,  4.78,  4.79,  4.8 ,\n",
       "        4.81,  4.82,  4.83,  4.84,  4.85,  4.86,  4.87,  4.88,  4.89,\n",
       "        4.9 ,  4.91,  4.92,  4.93,  4.94,  4.95,  4.96,  4.97,  4.98,\n",
       "        4.99])"
      ]
     },
     "execution_count": 16,
     "metadata": {},
     "output_type": "execute_result"
    }
   ],
   "source": [
    "points_2 = np.arange(-5, 5, 0.01, dtype=float).round(2) #thousands equally spaced points\n",
    "# rounding values to two decimal points\n",
    "points_2"
   ]
  },
  {
   "cell_type": "code",
   "execution_count": 17,
   "id": "427701bc-13fc-415d-a098-4ff9fa675a3f",
   "metadata": {},
   "outputs": [],
   "source": [
    "xs1, ys1 = np.meshgrid(points_2, points_2)"
   ]
  },
  {
   "cell_type": "code",
   "execution_count": 19,
   "id": "ee6027e7-8f13-471b-84b9-6763ff081fd9",
   "metadata": {},
   "outputs": [
    {
     "data": {
      "text/plain": [
       "array([[7.071, 7.064, 7.057, ..., 7.05 , 7.057, 7.064],\n",
       "       [7.064, 7.057, 7.05 , ..., 7.043, 7.05 , 7.057],\n",
       "       [7.057, 7.05 , 7.043, ..., 7.036, 7.043, 7.05 ],\n",
       "       ...,\n",
       "       [7.05 , 7.043, 7.036, ..., 7.029, 7.036, 7.043],\n",
       "       [7.057, 7.05 , 7.043, ..., 7.036, 7.043, 7.05 ],\n",
       "       [7.064, 7.057, 7.05 , ..., 7.043, 7.05 , 7.057]])"
      ]
     },
     "execution_count": 19,
     "metadata": {},
     "output_type": "execute_result"
    }
   ],
   "source": [
    "z1 = np.sqrt(xs1 ** 2 + ys1 ** 2).round(3)\n",
    "z1"
   ]
  },
  {
   "cell_type": "code",
   "execution_count": 25,
   "id": "2e567540-1686-45e0-977a-6b80fcd1c83b",
   "metadata": {},
   "outputs": [
    {
     "name": "stderr",
     "output_type": "stream",
     "text": [
      "<>:1: SyntaxWarning: invalid escape sequence '\\s'\n",
      "<>:1: SyntaxWarning: invalid escape sequence '\\s'\n",
      "C:\\Users\\abhia\\AppData\\Local\\Temp\\ipykernel_12384\\1947697556.py:1: SyntaxWarning: invalid escape sequence '\\s'\n",
      "  plt.title(\"Image plot of $\\sqrt{x^2 + y^2}$ for a grid of values\")\n"
     ]
    },
    {
     "data": {
      "text/plain": [
       "<matplotlib.colorbar.Colorbar at 0x1d96ef1ae70>"
      ]
     },
     "execution_count": 25,
     "metadata": {},
     "output_type": "execute_result"
    },
    {
     "data": {
      "image/png": "[encoded data removed]",
      "text/plain": [
       "<Figure size 640x480 with 2 Axes>"
      ]
     },
     "metadata": {},
     "output_type": "display_data"
    }
   ],
   "source": [
    "plt.title(\"Image plot of $\\sqrt{x^2 + y^2}$ for a grid of values\")\n",
    "plt.imshow(z1, cmap=plt.cm.grey); plt.colorbar()"
   ]
  }
 ],
 "metadata": {
  "kernelspec": {
   "display_name": "Python 3 (ipykernel)",
   "language": "python",
   "name": "python3"
  },
  "language_info": {
   "codemirror_mode": {
    "name": "ipython",
    "version": 3
   },
   "file_extension": ".py",
   "mimetype": "text/x-python",
   "name": "python",
   "nbconvert_exporter": "python",
   "pygments_lexer": "ipython3",
   "version": "3.12.7"
  }
 },
 "nbformat": 4,
 "nbformat_minor": 5
}
