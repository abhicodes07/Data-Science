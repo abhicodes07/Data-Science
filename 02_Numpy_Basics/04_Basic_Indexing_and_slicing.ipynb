{
 "cells": [
  {
   "cell_type": "markdown",
   "id": "653b7308-80e1-490a-be1f-ba9e160dc88a",
   "metadata": {},
   "source": [
    "#### Basic Indexing and Slicing\n",
    "Indexing in ndarrays allows us to select a subset of your data or individual elements.\n",
    "Indexing of *One-Dimensional* array is similar to python-lists:"
   ]
  },
  {
   "cell_type": "code",
   "execution_count": 1,
   "id": "050b7c90-83cb-4843-9ab2-ba29261d9efc",
   "metadata": {},
   "outputs": [],
   "source": [
    "import numpy as np"
   ]
  },
  {
   "cell_type": "code",
   "execution_count": 2,
   "id": "d7e6eff5-8993-45b2-92bb-3ce0b808fab5",
   "metadata": {},
   "outputs": [],
   "source": [
    "arr = np.arange(10)"
   ]
  },
  {
   "cell_type": "code",
   "execution_count": 3,
   "id": "f41d3e94-b50b-4481-9d0e-4557cbeb0940",
   "metadata": {},
   "outputs": [
    {
     "data": {
      "text/plain": [
       "array([0, 1, 2, 3, 4, 5, 6, 7, 8, 9])"
      ]
     },
     "execution_count": 3,
     "metadata": {},
     "output_type": "execute_result"
    }
   ],
   "source": [
    "arr"
   ]
  },
  {
   "cell_type": "code",
   "execution_count": 4,
   "id": "349ea40f-b488-4630-bd74-4231ddbd0a8d",
   "metadata": {},
   "outputs": [
    {
     "data": {
      "text/plain": [
       "np.int64(5)"
      ]
     },
     "execution_count": 4,
     "metadata": {},
     "output_type": "execute_result"
    }
   ],
   "source": [
    "# accessing single element\n",
    "arr[5]"
   ]
  },
  {
   "cell_type": "code",
   "execution_count": 5,
   "id": "c63d347f-081f-42cb-8a30-c0b80b49245c",
   "metadata": {},
   "outputs": [
    {
     "data": {
      "text/plain": [
       "array([5, 6, 7])"
      ]
     },
     "execution_count": 5,
     "metadata": {},
     "output_type": "execute_result"
    }
   ],
   "source": [
    "# slice of array\n",
    "arr[5:8]"
   ]
  },
  {
   "cell_type": "markdown",
   "id": "c15422ba-f901-4bc2-8cf5-428b8211b71c",
   "metadata": {},
   "source": [
    "#### Assigning a scalar value to a slice\n",
    "When we assign a scalar value to a selected slice, the value is propagated to the entire selection.\n",
    "for example:"
   ]
  },
  {
   "cell_type": "code",
   "execution_count": 6,
   "id": "009049f2-184a-4b12-83cb-769c4a39c5b3",
   "metadata": {},
   "outputs": [],
   "source": [
    "arr[5:8] = 11"
   ]
  },
  {
   "cell_type": "code",
   "execution_count": 7,
   "id": "bded94ec-3d29-4c9e-952c-e225ca565a3a",
   "metadata": {},
   "outputs": [
    {
     "data": {
      "text/plain": [
       "array([ 0,  1,  2,  3,  4, 11, 11, 11,  8,  9])"
      ]
     },
     "execution_count": 7,
     "metadata": {},
     "output_type": "execute_result"
    }
   ],
   "source": [
    "arr"
   ]
  },
  {
   "cell_type": "markdown",
   "id": "7f339241-6f35-42bf-bb7d-b2daa6fe956d",
   "metadata": {},
   "source": [
    "As you can see the elements from 5th index to 8th (5:8) index have been changed to `11`."
   ]
  },
  {
   "cell_type": "markdown",
   "id": "fd02626d-24fe-4155-a525-781f07796dad",
   "metadata": {},
   "source": [
    "***Note :*** We can copy a slice of an ndarray instead of *view* using `copy()` method. "
   ]
  },
  {
   "cell_type": "markdown",
   "id": "895937c9-1199-46bf-97da-aaaa0a07051b",
   "metadata": {},
   "source": [
    "#### Distinction between `arrays` and `Lists`\n",
    "First distinction from lists to arrays it that array slices are `views` on the original array. This means that the data is not copied, and any changes made to the view will be reflected on the source array."
   ]
  },
  {
   "cell_type": "code",
   "execution_count": 8,
   "id": "04435133-6aa8-4631-8b27-207204ec1eb4",
   "metadata": {},
   "outputs": [],
   "source": [
    "arr_slice = arr[5:8]"
   ]
  },
  {
   "cell_type": "code",
   "execution_count": 9,
   "id": "2c7977e7-2d2f-40e9-964f-95b80cc49946",
   "metadata": {},
   "outputs": [
    {
     "data": {
      "text/plain": [
       "array([11, 11, 11])"
      ]
     },
     "execution_count": 9,
     "metadata": {},
     "output_type": "execute_result"
    }
   ],
   "source": [
    "arr_slice"
   ]
  },
  {
   "cell_type": "code",
   "execution_count": 10,
   "id": "b43aec3e-c209-46e1-9b68-874fe2b8399a",
   "metadata": {},
   "outputs": [],
   "source": [
    "arr_slice[1] = 123"
   ]
  },
  {
   "cell_type": "code",
   "execution_count": 11,
   "id": "988d24cc-1ff2-4e47-8ac7-039b185ba0be",
   "metadata": {},
   "outputs": [
    {
     "data": {
      "text/plain": [
       "array([ 11, 123,  11])"
      ]
     },
     "execution_count": 11,
     "metadata": {},
     "output_type": "execute_result"
    }
   ],
   "source": [
    "arr_slice"
   ]
  },
  {
   "cell_type": "code",
   "execution_count": 12,
   "id": "0c94be22-1a8e-4b0b-9119-92a483beb4e7",
   "metadata": {},
   "outputs": [
    {
     "data": {
      "text/plain": [
       "array([  0,   1,   2,   3,   4,  11, 123,  11,   8,   9])"
      ]
     },
     "execution_count": 12,
     "metadata": {},
     "output_type": "execute_result"
    }
   ],
   "source": [
    "arr"
   ]
  },
  {
   "cell_type": "markdown",
   "id": "538f9635-77ff-4a51-9036-3647d99d4be0",
   "metadata": {},
   "source": [
    "as you can see every modification we made to the slice `arr_slice` is reflected to original source array.\n",
    "furthermore,"
   ]
  },
  {
   "cell_type": "code",
   "execution_count": 13,
   "id": "f7496c1e-30f4-4fa6-b340-8b4e9d8f23a1",
   "metadata": {},
   "outputs": [],
   "source": [
    "arr_slice[:] = 20"
   ]
  },
  {
   "cell_type": "code",
   "execution_count": 14,
   "id": "e092b030-cfb6-4e20-a8b9-b9a877e8905c",
   "metadata": {},
   "outputs": [
    {
     "data": {
      "text/plain": [
       "array([20, 20, 20])"
      ]
     },
     "execution_count": 14,
     "metadata": {},
     "output_type": "execute_result"
    }
   ],
   "source": [
    "arr_slice"
   ]
  },
  {
   "cell_type": "code",
   "execution_count": 15,
   "id": "09f3b84c-a836-4242-a63e-204acfeadce9",
   "metadata": {},
   "outputs": [
    {
     "data": {
      "text/plain": [
       "array([ 0,  1,  2,  3,  4, 20, 20, 20,  8,  9])"
      ]
     },
     "execution_count": 15,
     "metadata": {},
     "output_type": "execute_result"
    }
   ],
   "source": [
    "arr"
   ]
  },
  {
   "cell_type": "markdown",
   "id": "ac12f7f5-6f05-409c-8d6b-1c756a71f5a0",
   "metadata": {},
   "source": [
    "## Indexing in 2-D Arrays\n",
    "Indexing in two dimensional arrays is bit different than indexing in one dimensional arrays:"
   ]
  },
  {
   "cell_type": "code",
   "execution_count": 16,
   "id": "d22ffb1f-73a6-4907-86a3-3fc5dc2092ff",
   "metadata": {},
   "outputs": [],
   "source": [
    "# 2-D array\n",
    "arr_2d = np.array([[1, 2, 3],\n",
    "                   [4, 5, 6],\n",
    "                   [7, 8, 9]])"
   ]
  },
  {
   "cell_type": "code",
   "execution_count": 17,
   "id": "2dec46b6-ed83-439b-98df-17f9440d2f1e",
   "metadata": {},
   "outputs": [
    {
     "data": {
      "text/plain": [
       "array([[1, 2, 3],\n",
       "       [4, 5, 6],\n",
       "       [7, 8, 9]])"
      ]
     },
     "execution_count": 17,
     "metadata": {},
     "output_type": "execute_result"
    }
   ],
   "source": [
    "arr_2d"
   ]
  },
  {
   "cell_type": "code",
   "execution_count": 18,
   "id": "c1f0e094-40e7-433b-bafe-ae004e59407e",
   "metadata": {},
   "outputs": [
    {
     "data": {
      "text/plain": [
       "array([[4, 5, 6]])"
      ]
     },
     "execution_count": 18,
     "metadata": {},
     "output_type": "execute_result"
    }
   ],
   "source": [
    "arr_2d[1:2]"
   ]
  },
  {
   "cell_type": "code",
   "execution_count": 19,
   "id": "dd7d6172-23b0-4d92-93de-f4cc4ba6727c",
   "metadata": {},
   "outputs": [
    {
     "data": {
      "text/plain": [
       "array([7, 8, 9])"
      ]
     },
     "execution_count": 19,
     "metadata": {},
     "output_type": "execute_result"
    }
   ],
   "source": [
    "arr_2d[2]"
   ]
  },
  {
   "cell_type": "code",
   "execution_count": 20,
   "id": "fd11e42d-c797-4e84-88fe-9287982dc431",
   "metadata": {},
   "outputs": [
    {
     "data": {
      "text/plain": [
       "np.int64(5)"
      ]
     },
     "execution_count": 20,
     "metadata": {},
     "output_type": "execute_result"
    }
   ],
   "source": [
    "arr_2d[1][1]"
   ]
  },
  {
   "cell_type": "markdown",
   "id": "c4de89cd-241d-4e2c-ba0e-375deb690b5a",
   "metadata": {},
   "source": [
    "## Indexing in multi-dimensional arrays\n",
    "In multi-dimensional arrays, if you omit later indices, the returning object will be a lower dimensional ndarray consisting of all the data along the higher dimensions.\n",
    "for example, in 2 x 2 x 3 array:"
   ]
  },
  {
   "cell_type": "code",
   "execution_count": 21,
   "id": "71b07811-963d-4e38-bd49-8d39d8e22c6c",
   "metadata": {},
   "outputs": [],
   "source": [
    "arr_3d = np.array([\n",
    "    [[1, 2, 3], \n",
    "     [4, 5, 6]],\n",
    "    \n",
    "    [[7, 8, 9], \n",
    "     [10, 11, 12]]\n",
    "])"
   ]
  },
  {
   "cell_type": "code",
   "execution_count": 22,
   "id": "16d29934-f0c4-4346-a390-69ac941c6d11",
   "metadata": {},
   "outputs": [
    {
     "data": {
      "text/plain": [
       "array([[[ 1,  2,  3],\n",
       "        [ 4,  5,  6]],\n",
       "\n",
       "       [[ 7,  8,  9],\n",
       "        [10, 11, 12]]])"
      ]
     },
     "execution_count": 22,
     "metadata": {},
     "output_type": "execute_result"
    }
   ],
   "source": [
    "arr_3d"
   ]
  },
  {
   "cell_type": "markdown",
   "id": "845f7759-504e-49ff-8b2a-eb4a817c3a81",
   "metadata": {},
   "source": [
    "***Case 1:*** Here, `arr[0]` and `arr[1]` are **2 x 3** dimensional arrays :"
   ]
  },
  {
   "cell_type": "code",
   "execution_count": 23,
   "id": "8eacb3d0-bd25-4faf-b37b-36589d118087",
   "metadata": {},
   "outputs": [
    {
     "data": {
      "text/plain": [
       "array([[1, 2, 3],\n",
       "       [4, 5, 6]])"
      ]
     },
     "execution_count": 23,
     "metadata": {},
     "output_type": "execute_result"
    }
   ],
   "source": [
    "arr_3d[0]"
   ]
  },
  {
   "cell_type": "code",
   "execution_count": 24,
   "id": "5c96eb85-4f50-4359-9333-4b07177cc046",
   "metadata": {},
   "outputs": [
    {
     "data": {
      "text/plain": [
       "array([[ 7,  8,  9],\n",
       "       [10, 11, 12]])"
      ]
     },
     "execution_count": 24,
     "metadata": {},
     "output_type": "execute_result"
    }
   ],
   "source": [
    "arr_3d[1]"
   ]
  },
  {
   "cell_type": "markdown",
   "id": "dd039d12-ad29-4ab1-8f8e-329459a68d63",
   "metadata": {},
   "source": [
    "***Case 2:*** Here, `arr[0][0]`, `arr[0][1]`, `arr[1][0]` and `arr[1][1]` are one dimensional arrays"
   ]
  },
  {
   "cell_type": "code",
   "execution_count": 25,
   "id": "be4f9525-b590-47b1-85c7-f84a813c44ff",
   "metadata": {},
   "outputs": [
    {
     "data": {
      "text/plain": [
       "array([1, 2, 3])"
      ]
     },
     "execution_count": 25,
     "metadata": {},
     "output_type": "execute_result"
    }
   ],
   "source": [
    "arr_3d[0][0]"
   ]
  },
  {
   "cell_type": "code",
   "execution_count": 26,
   "id": "92d33498-a012-46c5-89bf-3d9bf79c512e",
   "metadata": {},
   "outputs": [
    {
     "data": {
      "text/plain": [
       "array([4, 5, 6])"
      ]
     },
     "execution_count": 26,
     "metadata": {},
     "output_type": "execute_result"
    }
   ],
   "source": [
    "arr_3d[0][1]"
   ]
  },
  {
   "cell_type": "code",
   "execution_count": 27,
   "id": "9c0512f6-747c-4a86-b069-3d82756b0d8d",
   "metadata": {},
   "outputs": [
    {
     "data": {
      "text/plain": [
       "array([7, 8, 9])"
      ]
     },
     "execution_count": 27,
     "metadata": {},
     "output_type": "execute_result"
    }
   ],
   "source": [
    "arr_3d[1][0]"
   ]
  },
  {
   "cell_type": "code",
   "execution_count": 28,
   "id": "c0026e64-16a5-47e5-8bc5-3a629a5032a0",
   "metadata": {},
   "outputs": [
    {
     "data": {
      "text/plain": [
       "array([10, 11, 12])"
      ]
     },
     "execution_count": 28,
     "metadata": {},
     "output_type": "execute_result"
    }
   ],
   "source": [
    "arr_3d[1][1]"
   ]
  },
  {
   "cell_type": "code",
   "execution_count": 29,
   "id": "22b4e98e-bab6-474e-bdac-6bd29db721b0",
   "metadata": {},
   "outputs": [
    {
     "name": "stdout",
     "output_type": "stream",
     "text": [
      "1 2 3 4 5 6 7 8 9 10 11 12 "
     ]
    }
   ],
   "source": [
    "for i in range(2):\n",
    "    for j in range(2):\n",
    "        for k in range(3):\n",
    "            value = arr_3d[i][j][k]\n",
    "            print(value, end=\" \")"
   ]
  },
  {
   "cell_type": "code",
   "execution_count": 30,
   "id": "aef54ca1-a55a-4ef4-a16d-6d2d8ee8b512",
   "metadata": {},
   "outputs": [
    {
     "name": "stdout",
     "output_type": "stream",
     "text": [
      "[1 2 3]\n",
      "[4 5 6]\n",
      "[7 8 9]\n",
      "[10 11 12]\n"
     ]
    }
   ],
   "source": [
    "for i in range(2):\n",
    "    for j in range(2):\n",
    "        value = arr_3d[i][j]\n",
    "        print(value)"
   ]
  },
  {
   "cell_type": "markdown",
   "id": "cf67345d-e77d-4efe-8938-ad5f4b665fe9",
   "metadata": {},
   "source": [
    "## Indexing with slices\n",
    "Like other indexing in objects like python lists, ndarrays can be sliced in the same way:"
   ]
  },
  {
   "cell_type": "code",
   "execution_count": 31,
   "id": "4885e122-a761-48dd-b99c-a00db8b912fb",
   "metadata": {},
   "outputs": [
    {
     "data": {
      "text/plain": [
       "array([[1, 2, 3],\n",
       "       [4, 5, 6],\n",
       "       [7, 8, 9]])"
      ]
     },
     "execution_count": 31,
     "metadata": {},
     "output_type": "execute_result"
    }
   ],
   "source": [
    "arr_2d"
   ]
  },
  {
   "cell_type": "code",
   "execution_count": 32,
   "id": "b1e257f9-9a5f-4eec-834d-48741f71a05f",
   "metadata": {},
   "outputs": [
    {
     "data": {
      "text/plain": [
       "array([8, 9])"
      ]
     },
     "execution_count": 32,
     "metadata": {},
     "output_type": "execute_result"
    }
   ],
   "source": [
    "arr_2d[2, 1:]"
   ]
  },
  {
   "cell_type": "code",
   "execution_count": 33,
   "id": "2627d651-e23f-41c8-aad4-1b84d475c777",
   "metadata": {},
   "outputs": [
    {
     "data": {
      "text/plain": [
       "array([[1],\n",
       "       [4],\n",
       "       [7]])"
      ]
     },
     "execution_count": 33,
     "metadata": {},
     "output_type": "execute_result"
    }
   ],
   "source": [
    "arr_2d[:, :1]"
   ]
  },
  {
   "cell_type": "markdown",
   "id": "937b56ce-d404-4753-9af4-48b65c44d4e0",
   "metadata": {},
   "source": [
    "of course, assigning to a slice expression assigns to the whole selection:"
   ]
  },
  {
   "cell_type": "code",
   "execution_count": 34,
   "id": "6ea37667-5344-4a5a-a0f6-11dd0f06fdb1",
   "metadata": {},
   "outputs": [],
   "source": [
    "arr_2d[1:2, :] = 77"
   ]
  },
  {
   "cell_type": "code",
   "execution_count": 35,
   "id": "734baac4-8b9c-4b50-8f95-086fc86988f2",
   "metadata": {},
   "outputs": [
    {
     "data": {
      "text/plain": [
       "array([[ 1,  2,  3],\n",
       "       [77, 77, 77],\n",
       "       [ 7,  8,  9]])"
      ]
     },
     "execution_count": 35,
     "metadata": {},
     "output_type": "execute_result"
    }
   ],
   "source": [
    "arr_2d"
   ]
  },
  {
   "cell_type": "code",
   "execution_count": null,
   "id": "350dadcc-820c-4d96-9598-d68de07fb090",
   "metadata": {},
   "outputs": [],
   "source": []
  }
 ],
 "metadata": {
  "kernelspec": {
   "display_name": "Python 3 (ipykernel)",
   "language": "python",
   "name": "python3"
  },
  "language_info": {
   "codemirror_mode": {
    "name": "ipython",
    "version": 3
   },
   "file_extension": ".py",
   "mimetype": "text/x-python",
   "name": "python",
   "nbconvert_exporter": "python",
   "pygments_lexer": "ipython3",
   "version": "3.11.10"
  },
  "widgets": {
   "application/vnd.jupyter.widget-state+json": {
    "state": {},
    "version_major": 2,
    "version_minor": 0
   }
  }
 },
 "nbformat": 4,
 "nbformat_minor": 5
}
