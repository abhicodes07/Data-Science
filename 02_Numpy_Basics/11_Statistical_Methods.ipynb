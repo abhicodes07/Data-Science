{
 "cells": [
  {
   "cell_type": "markdown",
   "id": "55334a28-c2fe-47c7-81b9-86164bd4c662",
   "metadata": {},
   "source": [
    "# Statistical Methods\n",
    "A set of mathematical functions which computes statistics about an entire array or about the data along an axis are accessible as array methods."
   ]
  },
  {
   "cell_type": "code",
   "execution_count": 1,
   "id": "ef1dd2e8-6b8b-410c-8d77-e93e08cf5280",
   "metadata": {},
   "outputs": [],
   "source": [
    "import numpy as np\n",
    "from numpy import random"
   ]
  },
  {
   "cell_type": "code",
   "execution_count": 2,
   "id": "9109a09c-5e80-453e-ab78-a027c63c4502",
   "metadata": {},
   "outputs": [
    {
     "data": {
      "text/plain": [
       "array([[ 0,  1,  2,  3],\n",
       "       [ 4,  5,  6,  7],\n",
       "       [ 8,  9, 10, 11],\n",
       "       [12, 13, 14, 15],\n",
       "       [16, 17, 18, 19]])"
      ]
     },
     "execution_count": 2,
     "metadata": {},
     "output_type": "execute_result"
    }
   ],
   "source": [
    "arr = np.arange(0, 20).reshape(5, 4) # normally distributed data\n",
    "arr"
   ]
  },
  {
   "cell_type": "markdown",
   "id": "607dd060-cb77-4bef-a192-2e8baf5741df",
   "metadata": {},
   "source": [
    "## 1. Mean\n",
    "Mean can take an optional *axis* argument and computes over the given axis.\n",
    "It results in an array with one fewer dimensions:"
   ]
  },
  {
   "cell_type": "code",
   "execution_count": 3,
   "id": "65fdfb61-f7e1-4942-a151-806121e1e212",
   "metadata": {},
   "outputs": [
    {
     "data": {
      "text/plain": [
       "np.float64(9.5)"
      ]
     },
     "execution_count": 3,
     "metadata": {},
     "output_type": "execute_result"
    }
   ],
   "source": [
    "np.mean(arr)"
   ]
  },
  {
   "cell_type": "code",
   "execution_count": 4,
   "id": "57e53b1b-fcd3-4ff3-82a2-f3bb989f9a12",
   "metadata": {},
   "outputs": [
    {
     "data": {
      "text/plain": [
       "array([ 1.5,  5.5,  9.5, 13.5, 17.5])"
      ]
     },
     "execution_count": 4,
     "metadata": {},
     "output_type": "execute_result"
    }
   ],
   "source": [
    "arr.mean(axis=1) # computes at first axis"
   ]
  },
  {
   "cell_type": "markdown",
   "id": "8f7e50f4-1ebc-470b-979f-d069f635467e",
   "metadata": {},
   "source": [
    "## 2.Sum"
   ]
  },
  {
   "cell_type": "code",
   "execution_count": 5,
   "id": "0df9af7d-979e-4e8c-85d7-af065aa32a7c",
   "metadata": {},
   "outputs": [
    {
     "data": {
      "text/plain": [
       "np.int64(190)"
      ]
     },
     "execution_count": 5,
     "metadata": {},
     "output_type": "execute_result"
    }
   ],
   "source": [
    "arr.sum()"
   ]
  },
  {
   "cell_type": "code",
   "execution_count": 6,
   "id": "b5e178de-a600-43e3-b4e9-6019c0c128c3",
   "metadata": {},
   "outputs": [
    {
     "data": {
      "text/plain": [
       "array([40, 45, 50, 55])"
      ]
     },
     "execution_count": 6,
     "metadata": {},
     "output_type": "execute_result"
    }
   ],
   "source": [
    "arr.sum(0)"
   ]
  },
  {
   "cell_type": "markdown",
   "id": "d60f68c5-8068-4e0d-a7d0-a375af0868c8",
   "metadata": {},
   "source": [
    "## 3. cumsum\n",
    "compute the cumulative sum row-wise (axis=1) or column-wise (axis=0).\n",
    "### a. First column:\n",
    "    [1, \n",
    "    [1+4=5,\n",
    "    [5+7=3,\n",
    "\n",
    "### b. Second column (add all elements before it from the first row):\n",
    "    [1, 2,\n",
    "    [5, 2+5=7,\n",
    "    [12, 7+8=15,\n",
    "### c. Third Column:\n",
    "    [1, 2, 3],\n",
    "    [5, 7, 3+6=9],\n",
    "    [7, 15, 9+9=18]"
   ]
  },
  {
   "cell_type": "code",
   "execution_count": 7,
   "id": "5197b83a-f3a7-43a6-822c-c4b915b518c7",
   "metadata": {},
   "outputs": [
    {
     "data": {
      "text/plain": [
       "array([[1, 2, 3],\n",
       "       [4, 5, 6],\n",
       "       [7, 8, 9]])"
      ]
     },
     "execution_count": 7,
     "metadata": {},
     "output_type": "execute_result"
    }
   ],
   "source": [
    "arr2 = np.arange(1, 10).reshape(3, 3)\n",
    "arr2"
   ]
  },
  {
   "cell_type": "code",
   "execution_count": 8,
   "id": "92670f12-8040-4ee1-b5fc-9ac720392e40",
   "metadata": {},
   "outputs": [
    {
     "data": {
      "text/plain": [
       "array([[ 1,  2,  3],\n",
       "       [ 5,  7,  9],\n",
       "       [12, 15, 18]])"
      ]
     },
     "execution_count": 8,
     "metadata": {},
     "output_type": "execute_result"
    }
   ],
   "source": [
    "arr2.cumsum(0)"
   ]
  },
  {
   "cell_type": "markdown",
   "id": "d46ef8c4-ecf9-4e7d-9dc2-10add2b32921",
   "metadata": {},
   "source": [
    "## 4.cumprod\n",
    "Cummlative product of elements starting from 1"
   ]
  },
  {
   "cell_type": "code",
   "execution_count": 9,
   "id": "3e088123-0b39-43a3-a437-bbe1977a2e67",
   "metadata": {},
   "outputs": [
    {
     "data": {
      "text/plain": [
       "array([[    0,     0,     0,     0],\n",
       "       [    4,    20,   120,   840],\n",
       "       [    8,    72,   720,  7920],\n",
       "       [   12,   156,  2184, 32760],\n",
       "       [   16,   272,  4896, 93024]])"
      ]
     },
     "execution_count": 9,
     "metadata": {},
     "output_type": "execute_result"
    }
   ],
   "source": [
    "arr.cumprod(1)"
   ]
  }
 ],
 "metadata": {
  "kernelspec": {
   "display_name": "Python 3 (ipykernel)",
   "language": "python",
   "name": "python3"
  },
  "language_info": {
   "codemirror_mode": {
    "name": "ipython",
    "version": 3
   },
   "file_extension": ".py",
   "mimetype": "text/x-python",
   "name": "python",
   "nbconvert_exporter": "python",
   "pygments_lexer": "ipython3",
   "version": "3.12.7"
  }
 },
 "nbformat": 4,
 "nbformat_minor": 5
}
